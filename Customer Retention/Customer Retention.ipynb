{
 "cells": [
  {
   "cell_type": "code",
   "execution_count": 2,
   "id": "90be9516",
   "metadata": {},
   "outputs": [],
   "source": [
    "#Let's start with importing necessary libraries\n",
    "import pandas as pd\n",
    "import numpy as np\n",
    "from sklearn.preprocessing import StandardScaler\n",
    "from sklearn.model_selection import train_test_split\n",
    "import matplotlib.pyplot as plt\n",
    "import seaborn as sns\n",
    "import pickle\n",
    "import warnings\n",
    "warnings.filterwarnings(\"ignore\")"
   ]
  },
  {
   "cell_type": "markdown",
   "id": "a0630b07",
   "metadata": {},
   "source": [
    "# Reading the data from the excel sheet"
   ]
  },
  {
   "cell_type": "code",
   "execution_count": 3,
   "id": "600609bd",
   "metadata": {},
   "outputs": [
    {
     "data": {
      "text/html": [
       "<div>\n",
       "<style scoped>\n",
       "    .dataframe tbody tr th:only-of-type {\n",
       "        vertical-align: middle;\n",
       "    }\n",
       "\n",
       "    .dataframe tbody tr th {\n",
       "        vertical-align: top;\n",
       "    }\n",
       "\n",
       "    .dataframe thead th {\n",
       "        text-align: right;\n",
       "    }\n",
       "</style>\n",
       "<table border=\"1\" class=\"dataframe\">\n",
       "  <thead>\n",
       "    <tr style=\"text-align: right;\">\n",
       "      <th></th>\n",
       "      <th>1Gender of respondent</th>\n",
       "      <th>2 How old are you?</th>\n",
       "      <th>3 Which city do you shop online from?</th>\n",
       "      <th>4 What is the Pin Code of where you shop online from?</th>\n",
       "      <th>5 Since How Long You are Shopping Online ?</th>\n",
       "      <th>6 How many times you have made an online purchase in the past 1 year?</th>\n",
       "      <th>7 How do you access the internet while shopping on-line?</th>\n",
       "      <th>8 Which device do you use to access the online shopping?</th>\n",
       "      <th>9 What is the screen size of your mobile device?\\t\\t\\t\\t\\t\\t</th>\n",
       "      <th>10 What is the operating system (OS) of your device?\\t\\t\\t\\t</th>\n",
       "      <th>...</th>\n",
       "      <th>Longer time to get logged in (promotion, sales period)</th>\n",
       "      <th>Longer time in displaying graphics and photos (promotion, sales period)</th>\n",
       "      <th>Late declaration of price (promotion, sales period)</th>\n",
       "      <th>Longer page loading time (promotion, sales period)</th>\n",
       "      <th>Limited mode of payment on most products (promotion, sales period)</th>\n",
       "      <th>Longer delivery period</th>\n",
       "      <th>Change in website/Application design</th>\n",
       "      <th>Frequent disruption when moving from one page to another</th>\n",
       "      <th>Website is as efficient as before</th>\n",
       "      <th>Which of the Indian online retailer would you recommend to a friend?</th>\n",
       "    </tr>\n",
       "  </thead>\n",
       "  <tbody>\n",
       "    <tr>\n",
       "      <th>0</th>\n",
       "      <td>Male</td>\n",
       "      <td>31-40 years</td>\n",
       "      <td>Delhi</td>\n",
       "      <td>110009</td>\n",
       "      <td>Above 4 years</td>\n",
       "      <td>31-40 times</td>\n",
       "      <td>Dial-up</td>\n",
       "      <td>Desktop</td>\n",
       "      <td>Others</td>\n",
       "      <td>Window/windows Mobile</td>\n",
       "      <td>...</td>\n",
       "      <td>Amazon.in</td>\n",
       "      <td>Amazon.in</td>\n",
       "      <td>Flipkart.com</td>\n",
       "      <td>Flipkart.com</td>\n",
       "      <td>Amazon.in</td>\n",
       "      <td>Paytm.com</td>\n",
       "      <td>Flipkart.com</td>\n",
       "      <td>Amazon.in</td>\n",
       "      <td>Amazon.in</td>\n",
       "      <td>Flipkart.com</td>\n",
       "    </tr>\n",
       "    <tr>\n",
       "      <th>1</th>\n",
       "      <td>Female</td>\n",
       "      <td>21-30 years</td>\n",
       "      <td>Delhi</td>\n",
       "      <td>110030</td>\n",
       "      <td>Above 4 years</td>\n",
       "      <td>41 times and above</td>\n",
       "      <td>Wi-Fi</td>\n",
       "      <td>Smartphone</td>\n",
       "      <td>4.7 inches</td>\n",
       "      <td>IOS/Mac</td>\n",
       "      <td>...</td>\n",
       "      <td>Amazon.in, Flipkart.com</td>\n",
       "      <td>Myntra.com</td>\n",
       "      <td>snapdeal.com</td>\n",
       "      <td>Snapdeal.com</td>\n",
       "      <td>Snapdeal.com</td>\n",
       "      <td>Snapdeal.com</td>\n",
       "      <td>Amazon.in</td>\n",
       "      <td>Myntra.com</td>\n",
       "      <td>Amazon.in, Flipkart.com</td>\n",
       "      <td>Amazon.in, Myntra.com</td>\n",
       "    </tr>\n",
       "    <tr>\n",
       "      <th>2</th>\n",
       "      <td>Female</td>\n",
       "      <td>21-30 years</td>\n",
       "      <td>Greater Noida</td>\n",
       "      <td>201308</td>\n",
       "      <td>3-4 years</td>\n",
       "      <td>41 times and above</td>\n",
       "      <td>Mobile Internet</td>\n",
       "      <td>Smartphone</td>\n",
       "      <td>5.5 inches</td>\n",
       "      <td>Android</td>\n",
       "      <td>...</td>\n",
       "      <td>Myntra.com</td>\n",
       "      <td>Myntra.com</td>\n",
       "      <td>Myntra.com</td>\n",
       "      <td>Myntra.com</td>\n",
       "      <td>Amazon.in</td>\n",
       "      <td>Paytm.com</td>\n",
       "      <td>Paytm.com</td>\n",
       "      <td>Paytm.com</td>\n",
       "      <td>Amazon.in</td>\n",
       "      <td>Amazon.in, Paytm.com, Myntra.com</td>\n",
       "    </tr>\n",
       "    <tr>\n",
       "      <th>3</th>\n",
       "      <td>Male</td>\n",
       "      <td>21-30 years</td>\n",
       "      <td>Karnal</td>\n",
       "      <td>132001</td>\n",
       "      <td>3-4 years</td>\n",
       "      <td>Less than 10 times</td>\n",
       "      <td>Mobile Internet</td>\n",
       "      <td>Smartphone</td>\n",
       "      <td>5.5 inches</td>\n",
       "      <td>IOS/Mac</td>\n",
       "      <td>...</td>\n",
       "      <td>Snapdeal.com</td>\n",
       "      <td>Myntra.com, Snapdeal.com</td>\n",
       "      <td>Myntra.com</td>\n",
       "      <td>Paytm.com</td>\n",
       "      <td>Paytm.com</td>\n",
       "      <td>Paytm.com</td>\n",
       "      <td>Amazon.in, Flipkart.com</td>\n",
       "      <td>Amazon.in, Flipkart.com</td>\n",
       "      <td>Amazon.in, Flipkart.com, Paytm.com</td>\n",
       "      <td>Amazon.in, Flipkart.com</td>\n",
       "    </tr>\n",
       "    <tr>\n",
       "      <th>4</th>\n",
       "      <td>Female</td>\n",
       "      <td>21-30 years</td>\n",
       "      <td>Bangalore</td>\n",
       "      <td>530068</td>\n",
       "      <td>2-3 years</td>\n",
       "      <td>11-20 times</td>\n",
       "      <td>Wi-Fi</td>\n",
       "      <td>Smartphone</td>\n",
       "      <td>4.7 inches</td>\n",
       "      <td>IOS/Mac</td>\n",
       "      <td>...</td>\n",
       "      <td>Flipkart.com, Paytm.com</td>\n",
       "      <td>Paytm.com</td>\n",
       "      <td>Paytm.com</td>\n",
       "      <td>Paytm.com</td>\n",
       "      <td>Snapdeal.com</td>\n",
       "      <td>Paytm.com</td>\n",
       "      <td>Amazon.in</td>\n",
       "      <td>Snapdeal.com</td>\n",
       "      <td>Paytm.com</td>\n",
       "      <td>Amazon.in, Myntra.com</td>\n",
       "    </tr>\n",
       "    <tr>\n",
       "      <th>...</th>\n",
       "      <td>...</td>\n",
       "      <td>...</td>\n",
       "      <td>...</td>\n",
       "      <td>...</td>\n",
       "      <td>...</td>\n",
       "      <td>...</td>\n",
       "      <td>...</td>\n",
       "      <td>...</td>\n",
       "      <td>...</td>\n",
       "      <td>...</td>\n",
       "      <td>...</td>\n",
       "      <td>...</td>\n",
       "      <td>...</td>\n",
       "      <td>...</td>\n",
       "      <td>...</td>\n",
       "      <td>...</td>\n",
       "      <td>...</td>\n",
       "      <td>...</td>\n",
       "      <td>...</td>\n",
       "      <td>...</td>\n",
       "      <td>...</td>\n",
       "    </tr>\n",
       "    <tr>\n",
       "      <th>264</th>\n",
       "      <td>Female</td>\n",
       "      <td>21-30 years</td>\n",
       "      <td>Solan</td>\n",
       "      <td>173212</td>\n",
       "      <td>1-2 years</td>\n",
       "      <td>Less than 10 times</td>\n",
       "      <td>Mobile Internet</td>\n",
       "      <td>Smartphone</td>\n",
       "      <td>5.5 inches</td>\n",
       "      <td>Android</td>\n",
       "      <td>...</td>\n",
       "      <td>Amazon.in</td>\n",
       "      <td>Amazon.in</td>\n",
       "      <td>Amazon.in</td>\n",
       "      <td>Amazon.in</td>\n",
       "      <td>Amazon.in</td>\n",
       "      <td>Amazon.in</td>\n",
       "      <td>Amazon.in</td>\n",
       "      <td>Amazon.in</td>\n",
       "      <td>Amazon.in</td>\n",
       "      <td>Amazon.in</td>\n",
       "    </tr>\n",
       "    <tr>\n",
       "      <th>265</th>\n",
       "      <td>Female</td>\n",
       "      <td>31-40 years</td>\n",
       "      <td>Ghaziabad</td>\n",
       "      <td>201008</td>\n",
       "      <td>1-2 years</td>\n",
       "      <td>31-40 times</td>\n",
       "      <td>Mobile Internet</td>\n",
       "      <td>Smartphone</td>\n",
       "      <td>Others</td>\n",
       "      <td>Android</td>\n",
       "      <td>...</td>\n",
       "      <td>Flipkart.com</td>\n",
       "      <td>Flipkart.com</td>\n",
       "      <td>Flipkart.com</td>\n",
       "      <td>Flipkart.com</td>\n",
       "      <td>Flipkart.com</td>\n",
       "      <td>Flipkart.com</td>\n",
       "      <td>Flipkart.com</td>\n",
       "      <td>Flipkart.com</td>\n",
       "      <td>Flipkart.com</td>\n",
       "      <td>Flipkart.com</td>\n",
       "    </tr>\n",
       "    <tr>\n",
       "      <th>266</th>\n",
       "      <td>Female</td>\n",
       "      <td>41-50 yaers</td>\n",
       "      <td>Bangalore</td>\n",
       "      <td>560010</td>\n",
       "      <td>2-3 years</td>\n",
       "      <td>Less than 10 times</td>\n",
       "      <td>Mobile internet</td>\n",
       "      <td>Laptop</td>\n",
       "      <td>Others</td>\n",
       "      <td>Window/windows Mobile</td>\n",
       "      <td>...</td>\n",
       "      <td>Amazon.in</td>\n",
       "      <td>Snapdeal.com</td>\n",
       "      <td>Amazon.in</td>\n",
       "      <td>Snapdeal.com</td>\n",
       "      <td>Snapdeal.com</td>\n",
       "      <td>Snapdeal.com</td>\n",
       "      <td>Snapdeal.com</td>\n",
       "      <td>Snapdeal.com</td>\n",
       "      <td>Amazon.in</td>\n",
       "      <td>Amazon.in</td>\n",
       "    </tr>\n",
       "    <tr>\n",
       "      <th>267</th>\n",
       "      <td>Female</td>\n",
       "      <td>Less than 20 years</td>\n",
       "      <td>Solan</td>\n",
       "      <td>173229</td>\n",
       "      <td>2-3 years</td>\n",
       "      <td>Less than 10 times</td>\n",
       "      <td>Wi-Fi</td>\n",
       "      <td>Smartphone</td>\n",
       "      <td>5.5 inches</td>\n",
       "      <td>Android</td>\n",
       "      <td>...</td>\n",
       "      <td>Amazon.in</td>\n",
       "      <td>Amazon.in, Myntra.com, Snapdeal.com</td>\n",
       "      <td>Amazon.in</td>\n",
       "      <td>Amazon.in, Snapdeal.com</td>\n",
       "      <td>Amazon.in</td>\n",
       "      <td>Amazon.in</td>\n",
       "      <td>Amazon.in</td>\n",
       "      <td>Myntra.com, Snapdeal.com</td>\n",
       "      <td>Myntra.com, Snapdeal.com</td>\n",
       "      <td>Amazon.in</td>\n",
       "    </tr>\n",
       "    <tr>\n",
       "      <th>268</th>\n",
       "      <td>Female</td>\n",
       "      <td>41-50 yaers</td>\n",
       "      <td>Ghaziabad</td>\n",
       "      <td>201009</td>\n",
       "      <td>2-3 years</td>\n",
       "      <td>31-40 times</td>\n",
       "      <td>Mobile Internet</td>\n",
       "      <td>Smartphone</td>\n",
       "      <td>5.5 inches</td>\n",
       "      <td>Android</td>\n",
       "      <td>...</td>\n",
       "      <td>Amazon.in</td>\n",
       "      <td>Amazon.in</td>\n",
       "      <td>Amazon.in</td>\n",
       "      <td>Amazon.in</td>\n",
       "      <td>Amazon.in</td>\n",
       "      <td>Amazon.in</td>\n",
       "      <td>Amazon.in</td>\n",
       "      <td>Amazon.in</td>\n",
       "      <td>Amazon.in</td>\n",
       "      <td>Amazon.in</td>\n",
       "    </tr>\n",
       "  </tbody>\n",
       "</table>\n",
       "<p>269 rows × 71 columns</p>\n",
       "</div>"
      ],
      "text/plain": [
       "    1Gender of respondent 2 How old are you?   \\\n",
       "0                    Male         31-40 years   \n",
       "1                  Female         21-30 years   \n",
       "2                  Female         21-30 years   \n",
       "3                    Male         21-30 years   \n",
       "4                  Female         21-30 years   \n",
       "..                    ...                 ...   \n",
       "264                Female         21-30 years   \n",
       "265                Female         31-40 years   \n",
       "266                Female         41-50 yaers   \n",
       "267                Female  Less than 20 years   \n",
       "268                Female         41-50 yaers   \n",
       "\n",
       "    3 Which city do you shop online from?  \\\n",
       "0                                   Delhi   \n",
       "1                                   Delhi   \n",
       "2                           Greater Noida   \n",
       "3                                 Karnal    \n",
       "4                              Bangalore    \n",
       "..                                    ...   \n",
       "264                                 Solan   \n",
       "265                             Ghaziabad   \n",
       "266                            Bangalore    \n",
       "267                                 Solan   \n",
       "268                             Ghaziabad   \n",
       "\n",
       "     4 What is the Pin Code of where you shop online from?  \\\n",
       "0                                               110009       \n",
       "1                                               110030       \n",
       "2                                               201308       \n",
       "3                                               132001       \n",
       "4                                               530068       \n",
       "..                                                 ...       \n",
       "264                                             173212       \n",
       "265                                             201008       \n",
       "266                                             560010       \n",
       "267                                             173229       \n",
       "268                                             201009       \n",
       "\n",
       "    5 Since How Long You are Shopping Online ?  \\\n",
       "0                                Above 4 years   \n",
       "1                                Above 4 years   \n",
       "2                                    3-4 years   \n",
       "3                                    3-4 years   \n",
       "4                                    2-3 years   \n",
       "..                                         ...   \n",
       "264                                  1-2 years   \n",
       "265                                  1-2 years   \n",
       "266                                  2-3 years   \n",
       "267                                  2-3 years   \n",
       "268                                  2-3 years   \n",
       "\n",
       "    6 How many times you have made an online purchase in the past 1 year?  \\\n",
       "0                                          31-40 times                      \n",
       "1                                   41 times and above                      \n",
       "2                                   41 times and above                      \n",
       "3                                   Less than 10 times                      \n",
       "4                                          11-20 times                      \n",
       "..                                                 ...                      \n",
       "264                                 Less than 10 times                      \n",
       "265                                        31-40 times                      \n",
       "266                                 Less than 10 times                      \n",
       "267                                 Less than 10 times                      \n",
       "268                                        31-40 times                      \n",
       "\n",
       "    7 How do you access the internet while shopping on-line?  \\\n",
       "0                                              Dial-up         \n",
       "1                                                Wi-Fi         \n",
       "2                                      Mobile Internet         \n",
       "3                                      Mobile Internet         \n",
       "4                                                Wi-Fi         \n",
       "..                                                 ...         \n",
       "264                                    Mobile Internet         \n",
       "265                                    Mobile Internet         \n",
       "266                                    Mobile internet         \n",
       "267                                              Wi-Fi         \n",
       "268                                    Mobile Internet         \n",
       "\n",
       "    8 Which device do you use to access the online shopping?  \\\n",
       "0                                              Desktop         \n",
       "1                                           Smartphone         \n",
       "2                                           Smartphone         \n",
       "3                                           Smartphone         \n",
       "4                                           Smartphone         \n",
       "..                                                 ...         \n",
       "264                                         Smartphone         \n",
       "265                                         Smartphone         \n",
       "266                                             Laptop         \n",
       "267                                         Smartphone         \n",
       "268                                         Smartphone         \n",
       "\n",
       "    9 What is the screen size of your mobile device?\\t\\t\\t\\t\\t\\t                                          \\\n",
       "0                                               Others                                                     \n",
       "1                                           4.7 inches                                                     \n",
       "2                                           5.5 inches                                                     \n",
       "3                                           5.5 inches                                                     \n",
       "4                                           4.7 inches                                                     \n",
       "..                                                 ...                                                     \n",
       "264                                         5.5 inches                                                     \n",
       "265                                             Others                                                     \n",
       "266                                             Others                                                     \n",
       "267                                         5.5 inches                                                     \n",
       "268                                         5.5 inches                                                     \n",
       "\n",
       "    10 What is the operating system (OS) of your device?\\t\\t\\t\\t                                            \\\n",
       "0                                Window/windows Mobile                                                       \n",
       "1                                              IOS/Mac                                                       \n",
       "2                                              Android                                                       \n",
       "3                                              IOS/Mac                                                       \n",
       "4                                              IOS/Mac                                                       \n",
       "..                                                 ...                                                       \n",
       "264                                            Android                                                       \n",
       "265                                            Android                                                       \n",
       "266                              Window/windows Mobile                                                       \n",
       "267                                            Android                                                       \n",
       "268                                            Android                                                       \n",
       "\n",
       "     ... Longer time to get logged in (promotion, sales period)  \\\n",
       "0    ...                                          Amazon.in       \n",
       "1    ...                            Amazon.in, Flipkart.com       \n",
       "2    ...                                         Myntra.com       \n",
       "3    ...                                       Snapdeal.com       \n",
       "4    ...                            Flipkart.com, Paytm.com       \n",
       "..   ...                                                ...       \n",
       "264  ...                                          Amazon.in       \n",
       "265  ...                                       Flipkart.com       \n",
       "266  ...                                          Amazon.in       \n",
       "267  ...                                          Amazon.in       \n",
       "268  ...                                          Amazon.in       \n",
       "\n",
       "    Longer time in displaying graphics and photos (promotion, sales period)  \\\n",
       "0                                            Amazon.in                        \n",
       "1                                           Myntra.com                        \n",
       "2                                           Myntra.com                        \n",
       "3                             Myntra.com, Snapdeal.com                        \n",
       "4                                            Paytm.com                        \n",
       "..                                                 ...                        \n",
       "264                                          Amazon.in                        \n",
       "265                                       Flipkart.com                        \n",
       "266                                       Snapdeal.com                        \n",
       "267                Amazon.in, Myntra.com, Snapdeal.com                        \n",
       "268                                          Amazon.in                        \n",
       "\n",
       "    Late declaration of price (promotion, sales period)  \\\n",
       "0                                         Flipkart.com    \n",
       "1                                         snapdeal.com    \n",
       "2                                           Myntra.com    \n",
       "3                                           Myntra.com    \n",
       "4                                            Paytm.com    \n",
       "..                                                 ...    \n",
       "264                                          Amazon.in    \n",
       "265                                       Flipkart.com    \n",
       "266                                          Amazon.in    \n",
       "267                                          Amazon.in    \n",
       "268                                          Amazon.in    \n",
       "\n",
       "    Longer page loading time (promotion, sales period)  \\\n",
       "0                                         Flipkart.com   \n",
       "1                                         Snapdeal.com   \n",
       "2                                           Myntra.com   \n",
       "3                                            Paytm.com   \n",
       "4                                            Paytm.com   \n",
       "..                                                 ...   \n",
       "264                                          Amazon.in   \n",
       "265                                       Flipkart.com   \n",
       "266                                       Snapdeal.com   \n",
       "267                            Amazon.in, Snapdeal.com   \n",
       "268                                          Amazon.in   \n",
       "\n",
       "    Limited mode of payment on most products (promotion, sales period)  \\\n",
       "0                                            Amazon.in                   \n",
       "1                                         Snapdeal.com                   \n",
       "2                                            Amazon.in                   \n",
       "3                                            Paytm.com                   \n",
       "4                                         Snapdeal.com                   \n",
       "..                                                 ...                   \n",
       "264                                          Amazon.in                   \n",
       "265                                       Flipkart.com                   \n",
       "266                                       Snapdeal.com                   \n",
       "267                                          Amazon.in                   \n",
       "268                                          Amazon.in                   \n",
       "\n",
       "    Longer delivery period Change in website/Application design  \\\n",
       "0                Paytm.com                         Flipkart.com   \n",
       "1             Snapdeal.com                            Amazon.in   \n",
       "2                Paytm.com                            Paytm.com   \n",
       "3                Paytm.com              Amazon.in, Flipkart.com   \n",
       "4                Paytm.com                            Amazon.in   \n",
       "..                     ...                                  ...   \n",
       "264              Amazon.in                            Amazon.in   \n",
       "265           Flipkart.com                         Flipkart.com   \n",
       "266           Snapdeal.com                         Snapdeal.com   \n",
       "267              Amazon.in                            Amazon.in   \n",
       "268              Amazon.in                            Amazon.in   \n",
       "\n",
       "    Frequent disruption when moving from one page to another  \\\n",
       "0                                            Amazon.in         \n",
       "1                                           Myntra.com         \n",
       "2                                            Paytm.com         \n",
       "3                              Amazon.in, Flipkart.com         \n",
       "4                                         Snapdeal.com         \n",
       "..                                                 ...         \n",
       "264                                          Amazon.in         \n",
       "265                                       Flipkart.com         \n",
       "266                                       Snapdeal.com         \n",
       "267                           Myntra.com, Snapdeal.com         \n",
       "268                                          Amazon.in         \n",
       "\n",
       "      Website is as efficient as before  \\\n",
       "0                             Amazon.in   \n",
       "1               Amazon.in, Flipkart.com   \n",
       "2                             Amazon.in   \n",
       "3    Amazon.in, Flipkart.com, Paytm.com   \n",
       "4                             Paytm.com   \n",
       "..                                  ...   \n",
       "264                           Amazon.in   \n",
       "265                        Flipkart.com   \n",
       "266                           Amazon.in   \n",
       "267            Myntra.com, Snapdeal.com   \n",
       "268                           Amazon.in   \n",
       "\n",
       "    Which of the Indian online retailer would you recommend to a friend?  \n",
       "0                                         Flipkart.com                    \n",
       "1                                Amazon.in, Myntra.com                    \n",
       "2                     Amazon.in, Paytm.com, Myntra.com                    \n",
       "3                              Amazon.in, Flipkart.com                    \n",
       "4                                Amazon.in, Myntra.com                    \n",
       "..                                                 ...                    \n",
       "264                                          Amazon.in                    \n",
       "265                                       Flipkart.com                    \n",
       "266                                          Amazon.in                    \n",
       "267                                          Amazon.in                    \n",
       "268                                          Amazon.in                    \n",
       "\n",
       "[269 rows x 71 columns]"
      ]
     },
     "execution_count": 3,
     "metadata": {},
     "output_type": "execute_result"
    }
   ],
   "source": [
    "#Read excel sheet and convert into Dataframe\n",
    "data=pd.read_excel(r'D:\\DataTrained\\Flip Robo Technology Internship\\Customer_retention_dataset\\Datasheet.xlsx')\n",
    "data"
   ]
  },
  {
   "cell_type": "code",
   "execution_count": 4,
   "id": "ba9c41f1",
   "metadata": {},
   "outputs": [
    {
     "data": {
      "text/plain": [
       "Index(['1Gender of respondent', '2 How old are you? ',\n",
       "       '3 Which city do you shop online from?',\n",
       "       '4 What is the Pin Code of where you shop online from?',\n",
       "       '5 Since How Long You are Shopping Online ?',\n",
       "       '6 How many times you have made an online purchase in the past 1 year?',\n",
       "       '7 How do you access the internet while shopping on-line?',\n",
       "       '8 Which device do you use to access the online shopping?',\n",
       "       '9 What is the screen size of your mobile device?\\t\\t\\t\\t\\t\\t                                        ',\n",
       "       '10 What is the operating system (OS) of your device?\\t\\t\\t\\t                                          ',\n",
       "       '11 What browser do you run on your device to access the website?\\t\\t\\t                                                          ',\n",
       "       '12 Which channel did you follow to arrive at your favorite online store for the first time?                                                                   ',\n",
       "       '13 After first visit, how do you reach the online retail store?\\t\\t\\t\\t                                                   ',\n",
       "       '14 How much time do you explore the e- retail store before making a purchase decision?                                                                   ',\n",
       "       '15 What is your preferred payment Option?\\t\\t\\t\\t\\t                                                                                                                               ',\n",
       "       '16 How frequently do you abandon (selecting an items and leaving without making payment) your shopping cart?\\t\\t\\t\\t\\t\\t\\t                                                   ',\n",
       "       '17 Why did you abandon the “Bag”, “Shopping Cart”?\\t\\t\\t\\t\\t                                                                                                                                                       ',\n",
       "       '18 The content on the website must be easy to read and understand',\n",
       "       '19 Information on similar product to the one highlighted  is important for product comparison',\n",
       "       '20 Complete information on listed seller and product being offered is important for purchase decision.',\n",
       "       '21 All relevant information on listed products must be stated clearly',\n",
       "       '22 Ease of navigation in website', '23 Loading and processing speed',\n",
       "       '24 User friendly Interface of the website',\n",
       "       '25 Convenient Payment methods',\n",
       "       '26 Trust that the online retail store will fulfill its part of the transaction at the stipulated time',\n",
       "       '27 Empathy (readiness to assist with queries) towards the customers',\n",
       "       '28 Being able to guarantee the privacy of the customer',\n",
       "       '29 Responsiveness, availability of several communication channels (email, online rep, twitter, phone etc.)',\n",
       "       '30 Online shopping gives monetary benefit and discounts',\n",
       "       '31 Enjoyment is derived from shopping online',\n",
       "       '32 Shopping online is convenient and flexible',\n",
       "       '33 Return and replacement policy of the e-tailer is important for purchase decision',\n",
       "       '34 Gaining access to loyalty programs is a benefit of shopping online',\n",
       "       '35 Displaying quality Information on the website improves satisfaction of customers',\n",
       "       '36 User derive satisfaction while shopping on a good quality website or application',\n",
       "       '37 Net Benefit derived from shopping online can lead to users satisfaction',\n",
       "       '38 User satisfaction cannot exist without trust',\n",
       "       '39 Offering a wide variety of listed product in several category',\n",
       "       '40 Provision of complete and relevant product information',\n",
       "       '41 Monetary savings',\n",
       "       '42 The Convenience of patronizing the online retailer',\n",
       "       '43 Shopping on the website gives you the sense of adventure',\n",
       "       '44 Shopping on your preferred e-tailer enhances your social status',\n",
       "       '45 You feel gratification shopping on your favorite e-tailer',\n",
       "       '46 Shopping on the website helps you fulfill certain roles',\n",
       "       '47 Getting value for money spent',\n",
       "       'From the following, tick any (or all) of the online retailers you have shopped from;                                                                           ',\n",
       "       'Easy to use website or application',\n",
       "       'Visual appealing web-page layout', 'Wild variety of product on offer',\n",
       "       'Complete, relevant description information of products',\n",
       "       'Fast loading website speed of website and application',\n",
       "       'Reliability of the website or application',\n",
       "       'Quickness to complete purchase',\n",
       "       'Availability of several payment options', 'Speedy order delivery ',\n",
       "       'Privacy of customers’ information',\n",
       "       'Security of customer financial information',\n",
       "       'Perceived Trustworthiness',\n",
       "       'Presence of online assistance through multi-channel',\n",
       "       'Longer time to get logged in (promotion, sales period)',\n",
       "       'Longer time in displaying graphics and photos (promotion, sales period)',\n",
       "       'Late declaration of price (promotion, sales period)',\n",
       "       'Longer page loading time (promotion, sales period)',\n",
       "       'Limited mode of payment on most products (promotion, sales period)',\n",
       "       'Longer delivery period', 'Change in website/Application design',\n",
       "       'Frequent disruption when moving from one page to another',\n",
       "       'Website is as efficient as before',\n",
       "       'Which of the Indian online retailer would you recommend to a friend?'],\n",
       "      dtype='object')"
      ]
     },
     "execution_count": 4,
     "metadata": {},
     "output_type": "execute_result"
    }
   ],
   "source": [
    "#Lets see the columns present in the dataset\n",
    "data.columns"
   ]
  },
  {
   "cell_type": "code",
   "execution_count": 5,
   "id": "91182d58",
   "metadata": {},
   "outputs": [
    {
     "data": {
      "text/plain": [
       "(269, 71)"
      ]
     },
     "execution_count": 5,
     "metadata": {},
     "output_type": "execute_result"
    }
   ],
   "source": [
    "#Shape of the file\n",
    "data.shape"
   ]
  },
  {
   "cell_type": "code",
   "execution_count": 6,
   "id": "6799cbf3",
   "metadata": {},
   "outputs": [
    {
     "name": "stdout",
     "output_type": "stream",
     "text": [
      "1Gender of respondent ------------ object\n",
      "2 How old are you?  ------------ object\n",
      "3 Which city do you shop online from? ------------ object\n",
      "4 What is the Pin Code of where you shop online from? ------------ int64\n",
      "5 Since How Long You are Shopping Online ? ------------ object\n",
      "6 How many times you have made an online purchase in the past 1 year? ------------ object\n",
      "7 How do you access the internet while shopping on-line? ------------ object\n",
      "8 Which device do you use to access the online shopping? ------------ object\n",
      "9 What is the screen size of your mobile device?\t\t\t\t\t\t                                         ------------ object\n",
      "10 What is the operating system (OS) of your device?\t\t\t\t                                           ------------ object\n",
      "11 What browser do you run on your device to access the website?\t\t\t                                                           ------------ object\n",
      "12 Which channel did you follow to arrive at your favorite online store for the first time?                                                                    ------------ object\n",
      "13 After first visit, how do you reach the online retail store?\t\t\t\t                                                    ------------ object\n",
      "14 How much time do you explore the e- retail store before making a purchase decision?                                                                    ------------ object\n",
      "15 What is your preferred payment Option?\t\t\t\t\t                                                                                                                                ------------ object\n",
      "16 How frequently do you abandon (selecting an items and leaving without making payment) your shopping cart?\t\t\t\t\t\t\t                                                    ------------ object\n",
      "17 Why did you abandon the “Bag”, “Shopping Cart”?\t\t\t\t\t                                                                                                                                                        ------------ object\n",
      "18 The content on the website must be easy to read and understand ------------ object\n",
      "19 Information on similar product to the one highlighted  is important for product comparison ------------ object\n",
      "20 Complete information on listed seller and product being offered is important for purchase decision. ------------ object\n",
      "21 All relevant information on listed products must be stated clearly ------------ object\n",
      "22 Ease of navigation in website ------------ object\n",
      "23 Loading and processing speed ------------ object\n",
      "24 User friendly Interface of the website ------------ object\n",
      "25 Convenient Payment methods ------------ object\n",
      "26 Trust that the online retail store will fulfill its part of the transaction at the stipulated time ------------ object\n",
      "27 Empathy (readiness to assist with queries) towards the customers ------------ object\n",
      "28 Being able to guarantee the privacy of the customer ------------ object\n",
      "29 Responsiveness, availability of several communication channels (email, online rep, twitter, phone etc.) ------------ object\n",
      "30 Online shopping gives monetary benefit and discounts ------------ object\n",
      "31 Enjoyment is derived from shopping online ------------ object\n",
      "32 Shopping online is convenient and flexible ------------ object\n",
      "33 Return and replacement policy of the e-tailer is important for purchase decision ------------ object\n",
      "34 Gaining access to loyalty programs is a benefit of shopping online ------------ object\n",
      "35 Displaying quality Information on the website improves satisfaction of customers ------------ object\n",
      "36 User derive satisfaction while shopping on a good quality website or application ------------ object\n",
      "37 Net Benefit derived from shopping online can lead to users satisfaction ------------ object\n",
      "38 User satisfaction cannot exist without trust ------------ object\n",
      "39 Offering a wide variety of listed product in several category ------------ object\n",
      "40 Provision of complete and relevant product information ------------ object\n",
      "41 Monetary savings ------------ object\n",
      "42 The Convenience of patronizing the online retailer ------------ object\n",
      "43 Shopping on the website gives you the sense of adventure ------------ object\n",
      "44 Shopping on your preferred e-tailer enhances your social status ------------ object\n",
      "45 You feel gratification shopping on your favorite e-tailer ------------ object\n",
      "46 Shopping on the website helps you fulfill certain roles ------------ object\n",
      "47 Getting value for money spent ------------ object\n",
      "From the following, tick any (or all) of the online retailers you have shopped from;                                                                            ------------ object\n",
      "Easy to use website or application ------------ object\n",
      "Visual appealing web-page layout ------------ object\n",
      "Wild variety of product on offer ------------ object\n",
      "Complete, relevant description information of products ------------ object\n",
      "Fast loading website speed of website and application ------------ object\n",
      "Reliability of the website or application ------------ object\n",
      "Quickness to complete purchase ------------ object\n",
      "Availability of several payment options ------------ object\n",
      "Speedy order delivery  ------------ object\n",
      "Privacy of customers’ information ------------ object\n",
      "Security of customer financial information ------------ object\n",
      "Perceived Trustworthiness ------------ object\n",
      "Presence of online assistance through multi-channel ------------ object\n",
      "Longer time to get logged in (promotion, sales period) ------------ object\n",
      "Longer time in displaying graphics and photos (promotion, sales period) ------------ object\n",
      "Late declaration of price (promotion, sales period) ------------ object\n",
      "Longer page loading time (promotion, sales period) ------------ object\n",
      "Limited mode of payment on most products (promotion, sales period) ------------ object\n",
      "Longer delivery period ------------ object\n",
      "Change in website/Application design ------------ object\n",
      "Frequent disruption when moving from one page to another ------------ object\n",
      "Website is as efficient as before ------------ object\n",
      "Which of the Indian online retailer would you recommend to a friend? ------------ object\n"
     ]
    }
   ],
   "source": [
    "#Checking for data types of the columns\n",
    "for column in data:\n",
    "    print(column ,\"------------\", data[column].dtypes)"
   ]
  },
  {
   "cell_type": "markdown",
   "id": "1bf0563e",
   "metadata": {},
   "source": [
    "# \n",
    "As the datatype of almost all columns is of object type, it will have to encoded prior instantiating it into any machine learning model"
   ]
  },
  {
   "cell_type": "code",
   "execution_count": 7,
   "id": "ccba36f7",
   "metadata": {},
   "outputs": [
    {
     "name": "stdout",
     "output_type": "stream",
     "text": [
      "1Gender of respondent ------------ 0\n",
      "2 How old are you?  ------------ 0\n",
      "3 Which city do you shop online from? ------------ 0\n",
      "4 What is the Pin Code of where you shop online from? ------------ 0\n",
      "5 Since How Long You are Shopping Online ? ------------ 0\n",
      "6 How many times you have made an online purchase in the past 1 year? ------------ 0\n",
      "7 How do you access the internet while shopping on-line? ------------ 0\n",
      "8 Which device do you use to access the online shopping? ------------ 0\n",
      "9 What is the screen size of your mobile device?\t\t\t\t\t\t                                         ------------ 0\n",
      "10 What is the operating system (OS) of your device?\t\t\t\t                                           ------------ 0\n",
      "11 What browser do you run on your device to access the website?\t\t\t                                                           ------------ 0\n",
      "12 Which channel did you follow to arrive at your favorite online store for the first time?                                                                    ------------ 0\n",
      "13 After first visit, how do you reach the online retail store?\t\t\t\t                                                    ------------ 0\n",
      "14 How much time do you explore the e- retail store before making a purchase decision?                                                                    ------------ 0\n",
      "15 What is your preferred payment Option?\t\t\t\t\t                                                                                                                                ------------ 0\n",
      "16 How frequently do you abandon (selecting an items and leaving without making payment) your shopping cart?\t\t\t\t\t\t\t                                                    ------------ 0\n",
      "17 Why did you abandon the “Bag”, “Shopping Cart”?\t\t\t\t\t                                                                                                                                                        ------------ 0\n",
      "18 The content on the website must be easy to read and understand ------------ 0\n",
      "19 Information on similar product to the one highlighted  is important for product comparison ------------ 0\n",
      "20 Complete information on listed seller and product being offered is important for purchase decision. ------------ 0\n",
      "21 All relevant information on listed products must be stated clearly ------------ 0\n",
      "22 Ease of navigation in website ------------ 0\n",
      "23 Loading and processing speed ------------ 0\n",
      "24 User friendly Interface of the website ------------ 0\n",
      "25 Convenient Payment methods ------------ 0\n",
      "26 Trust that the online retail store will fulfill its part of the transaction at the stipulated time ------------ 0\n",
      "27 Empathy (readiness to assist with queries) towards the customers ------------ 0\n",
      "28 Being able to guarantee the privacy of the customer ------------ 0\n",
      "29 Responsiveness, availability of several communication channels (email, online rep, twitter, phone etc.) ------------ 0\n",
      "30 Online shopping gives monetary benefit and discounts ------------ 0\n",
      "31 Enjoyment is derived from shopping online ------------ 0\n",
      "32 Shopping online is convenient and flexible ------------ 0\n",
      "33 Return and replacement policy of the e-tailer is important for purchase decision ------------ 0\n",
      "34 Gaining access to loyalty programs is a benefit of shopping online ------------ 0\n",
      "35 Displaying quality Information on the website improves satisfaction of customers ------------ 0\n",
      "36 User derive satisfaction while shopping on a good quality website or application ------------ 0\n",
      "37 Net Benefit derived from shopping online can lead to users satisfaction ------------ 0\n",
      "38 User satisfaction cannot exist without trust ------------ 0\n",
      "39 Offering a wide variety of listed product in several category ------------ 0\n",
      "40 Provision of complete and relevant product information ------------ 0\n",
      "41 Monetary savings ------------ 0\n",
      "42 The Convenience of patronizing the online retailer ------------ 0\n",
      "43 Shopping on the website gives you the sense of adventure ------------ 0\n",
      "44 Shopping on your preferred e-tailer enhances your social status ------------ 0\n",
      "45 You feel gratification shopping on your favorite e-tailer ------------ 0\n",
      "46 Shopping on the website helps you fulfill certain roles ------------ 0\n",
      "47 Getting value for money spent ------------ 0\n",
      "From the following, tick any (or all) of the online retailers you have shopped from;                                                                            ------------ 0\n",
      "Easy to use website or application ------------ 0\n",
      "Visual appealing web-page layout ------------ 0\n",
      "Wild variety of product on offer ------------ 0\n",
      "Complete, relevant description information of products ------------ 0\n",
      "Fast loading website speed of website and application ------------ 0\n",
      "Reliability of the website or application ------------ 0\n",
      "Quickness to complete purchase ------------ 0\n",
      "Availability of several payment options ------------ 0\n",
      "Speedy order delivery  ------------ 0\n",
      "Privacy of customers’ information ------------ 0\n",
      "Security of customer financial information ------------ 0\n",
      "Perceived Trustworthiness ------------ 0\n",
      "Presence of online assistance through multi-channel ------------ 0\n",
      "Longer time to get logged in (promotion, sales period) ------------ 0\n",
      "Longer time in displaying graphics and photos (promotion, sales period) ------------ 0\n",
      "Late declaration of price (promotion, sales period) ------------ 0\n",
      "Longer page loading time (promotion, sales period) ------------ 0\n",
      "Limited mode of payment on most products (promotion, sales period) ------------ 0\n",
      "Longer delivery period ------------ 0\n",
      "Change in website/Application design ------------ 0\n",
      "Frequent disruption when moving from one page to another ------------ 0\n",
      "Website is as efficient as before ------------ 0\n",
      "Which of the Indian online retailer would you recommend to a friend? ------------ 0\n"
     ]
    }
   ],
   "source": [
    "# Checking for null values\n",
    "for column in data:\n",
    "    print(column ,\"------------\", data[column].isnull().sum())"
   ]
  },
  {
   "cell_type": "markdown",
   "id": "19ff5e8b",
   "metadata": {},
   "source": [
    "# \n",
    "There are no null values"
   ]
  },
  {
   "cell_type": "markdown",
   "id": "16926a94",
   "metadata": {},
   "source": [
    "# Visualization of the Data"
   ]
  },
  {
   "cell_type": "code",
   "execution_count": 8,
   "id": "7abefc48",
   "metadata": {},
   "outputs": [
    {
     "name": "stdout",
     "output_type": "stream",
     "text": [
      "Female    181\n",
      "Male       88\n",
      "Name: 1Gender of respondent, dtype: int64\n"
     ]
    },
    {
     "data": {
      "image/png": "[encoded data removed]",
      "text/plain": [
       "<Figure size 432x288 with 1 Axes>"
      ]
     },
     "metadata": {
      "needs_background": "light"
     },
     "output_type": "display_data"
    }
   ],
   "source": [
    "ax=sns.countplot(x=\"1Gender of respondent\", data=data)\n",
    "print(data[\"1Gender of respondent\"].value_counts())"
   ]
  },
  {
   "cell_type": "code",
   "execution_count": 9,
   "id": "91fb0cac",
   "metadata": {},
   "outputs": [
    {
     "name": "stdout",
     "output_type": "stream",
     "text": [
      "31-40 years           81\n",
      "21-30 years           79\n",
      "41-50 yaers           70\n",
      "Less than 20 years    20\n",
      "51 years and above    19\n",
      "Name: 2 How old are you? , dtype: int64\n"
     ]
    },
    {
     "data": {
      "image/png": "[encoded data removed]",
      "text/plain": [
       "<Figure size 1080x360 with 1 Axes>"
      ]
     },
     "metadata": {
      "needs_background": "light"
     },
     "output_type": "display_data"
    }
   ],
   "source": [
    "plt.figure(figsize=(15,5))\n",
    "ax=sns.countplot(x=\"2 How old are you? \", data=data)\n",
    "print(data[\"2 How old are you? \"].value_counts())"
   ]
  },
  {
   "cell_type": "code",
   "execution_count": 10,
   "id": "2e0cedbc",
   "metadata": {},
   "outputs": [
    {
     "name": "stdout",
     "output_type": "stream",
     "text": [
      "Delhi            58\n",
      "Greater Noida    43\n",
      "Noida            40\n",
      "Bangalore        37\n",
      "Karnal           27\n",
      "Solan            18\n",
      "Ghaziabad        18\n",
      "Gurgaon          12\n",
      "Merrut            9\n",
      "Moradabad         5\n",
      "Bulandshahr       2\n",
      "Name: 3 Which city do you shop online from?, dtype: int64\n"
     ]
    },
    {
     "data": {
      "image/png": "[encoded data removed]",
      "text/plain": [
       "<Figure size 1080x360 with 1 Axes>"
      ]
     },
     "metadata": {
      "needs_background": "light"
     },
     "output_type": "display_data"
    }
   ],
   "source": [
    "plt.figure(figsize=(15,5))\n",
    "ax=sns.countplot(x=\"3 Which city do you shop online from?\", data=data)\n",
    "print(data[\"3 Which city do you shop online from?\"].value_counts())"
   ]
  },
  {
   "cell_type": "code",
   "execution_count": 11,
   "id": "edd76210",
   "metadata": {},
   "outputs": [
    {
     "name": "stdout",
     "output_type": "stream",
     "text": [
      "201308    38\n",
      "132001    19\n",
      "201310    18\n",
      "110044    16\n",
      "250001     9\n",
      "173229     9\n",
      "173212     9\n",
      "560010     8\n",
      "132036     8\n",
      "122018     8\n",
      "560037     8\n",
      "110008     7\n",
      "110011     7\n",
      "201306     7\n",
      "110014     6\n",
      "110018     6\n",
      "201305     5\n",
      "201008     5\n",
      "201009     5\n",
      "201312     5\n",
      "244001     5\n",
      "530068     5\n",
      "122009     4\n",
      "201001     4\n",
      "560003     4\n",
      "201304     4\n",
      "110009     4\n",
      "201303     4\n",
      "560002     4\n",
      "560018     4\n",
      "110042     4\n",
      "110030     4\n",
      "201005     4\n",
      "110039     4\n",
      "560013     3\n",
      "203001     2\n",
      "203202     1\n",
      "560001     1\n",
      "203207     1\n",
      "Name: 4 What is the Pin Code of where you shop online from?, dtype: int64\n"
     ]
    },
    {
     "data": {
      "image/png": "[encoded data removed]",
      "text/plain": [
       "<Figure size 432x288 with 1 Axes>"
      ]
     },
     "metadata": {
      "needs_background": "light"
     },
     "output_type": "display_data"
    }
   ],
   "source": [
    "sns.distplot(data[\"4 What is the Pin Code of where you shop online from?\"])\n",
    "plt.xlabel(\"4 What is the Pin Code of where you shop online from?\",fontsize=10)\n",
    "plt.tight_layout()\n",
    "print(data[\"4 What is the Pin Code of where you shop online from?\"].value_counts())"
   ]
  },
  {
   "cell_type": "code",
   "execution_count": 12,
   "id": "c124c23f",
   "metadata": {},
   "outputs": [
    {
     "name": "stdout",
     "output_type": "stream",
     "text": [
      "Above 4 years       98\n",
      "2-3 years           65\n",
      "3-4 years           47\n",
      "Less than 1 year    43\n",
      "1-2 years           16\n",
      "Name: 5 Since How Long You are Shopping Online ?, dtype: int64\n"
     ]
    },
    {
     "data": {
      "image/png": "[encoded data removed]",
      "text/plain": [
       "<Figure size 1080x360 with 1 Axes>"
      ]
     },
     "metadata": {
      "needs_background": "light"
     },
     "output_type": "display_data"
    }
   ],
   "source": [
    "plt.figure(figsize=(15,5))\n",
    "ax=sns.countplot(x=\"5 Since How Long You are Shopping Online ?\", data=data)\n",
    "print(data[\"5 Since How Long You are Shopping Online ?\"].value_counts())"
   ]
  },
  {
   "cell_type": "code",
   "execution_count": 13,
   "id": "ac404246",
   "metadata": {},
   "outputs": [
    {
     "name": "stdout",
     "output_type": "stream",
     "text": [
      "Less than 10 times    114\n",
      "31-40 times            63\n",
      "41 times and above     47\n",
      "11-20 times            29\n",
      "21-30 times            10\n",
      "42 times and above      6\n",
      "Name: 6 How many times you have made an online purchase in the past 1 year?, dtype: int64\n"
     ]
    },
    {
     "data": {
      "image/png": "[encoded data removed]",
      "text/plain": [
       "<Figure size 1080x360 with 1 Axes>"
      ]
     },
     "metadata": {
      "needs_background": "light"
     },
     "output_type": "display_data"
    }
   ],
   "source": [
    "plt.figure(figsize=(15,5))\n",
    "ax=sns.countplot(x=\"6 How many times you have made an online purchase in the past 1 year?\", data=data)\n",
    "print(data[\"6 How many times you have made an online purchase in the past 1 year?\"].value_counts())"
   ]
  },
  {
   "cell_type": "code",
   "execution_count": 14,
   "id": "5b07c0f1",
   "metadata": {},
   "outputs": [
    {
     "name": "stdout",
     "output_type": "stream",
     "text": [
      "Mobile internet    142\n",
      "Wi-Fi               76\n",
      "Mobile Internet     47\n",
      "Dial-up              4\n",
      "Name: 7 How do you access the internet while shopping on-line?, dtype: int64\n"
     ]
    },
    {
     "data": {
      "image/png": "[encoded data removed]",
      "text/plain": [
       "<Figure size 1080x360 with 1 Axes>"
      ]
     },
     "metadata": {
      "needs_background": "light"
     },
     "output_type": "display_data"
    }
   ],
   "source": [
    "plt.figure(figsize=(15,5))\n",
    "ax=sns.countplot(x=\"7 How do you access the internet while shopping on-line?\", data=data)\n",
    "print(data[\"7 How do you access the internet while shopping on-line?\"].value_counts())"
   ]
  },
  {
   "cell_type": "code",
   "execution_count": 15,
   "id": "3a745303",
   "metadata": {},
   "outputs": [
    {
     "name": "stdout",
     "output_type": "stream",
     "text": [
      "Smartphone    141\n",
      "Laptop         86\n",
      "Desktop        30\n",
      "Tablet         12\n",
      "Name: 8 Which device do you use to access the online shopping?, dtype: int64\n"
     ]
    },
    {
     "data": {
      "image/png": "[encoded data removed]",
      "text/plain": [
       "<Figure size 1080x360 with 1 Axes>"
      ]
     },
     "metadata": {
      "needs_background": "light"
     },
     "output_type": "display_data"
    }
   ],
   "source": [
    "plt.figure(figsize=(15,5))\n",
    "ax=sns.countplot(x=\"8 Which device do you use to access the online shopping?\", data=data)\n",
    "print(data[\"8 Which device do you use to access the online shopping?\"].value_counts())"
   ]
  },
  {
   "cell_type": "code",
   "execution_count": 16,
   "id": "c0c05716",
   "metadata": {},
   "outputs": [
    {
     "name": "stdout",
     "output_type": "stream",
     "text": [
      "Others        134\n",
      "5.5 inches     99\n",
      "4.7 inches     29\n",
      "5 inches        7\n",
      "Name: 9 What is the screen size of your mobile device?\\t\\t\\t\\t\\t\\t                                        , dtype: int64\n"
     ]
    },
    {
     "data": {
      "image/png": "[encoded data removed]",
      "text/plain": [
       "<Figure size 1080x360 with 1 Axes>"
      ]
     },
     "metadata": {
      "needs_background": "light"
     },
     "output_type": "display_data"
    }
   ],
   "source": [
    "plt.figure(figsize=(15,5))\n",
    "ax=sns.countplot(x=\"9 What is the screen size of your mobile device?\\t\\t\\t\\t\\t\\t                                        \", data=data)\n",
    "print(data[\"9 What is the screen size of your mobile device?\\t\\t\\t\\t\\t\\t                                        \"].value_counts())"
   ]
  },
  {
   "cell_type": "code",
   "execution_count": 17,
   "id": "b5b28e27",
   "metadata": {},
   "outputs": [
    {
     "name": "stdout",
     "output_type": "stream",
     "text": [
      "Window/windows Mobile    122\n",
      "Android                   85\n",
      "IOS/Mac                   62\n",
      "Name: 10 What is the operating system (OS) of your device?\\t\\t\\t\\t                                          , dtype: int64\n"
     ]
    },
    {
     "data": {
      "image/png": "[encoded data removed]",
      "text/plain": [
       "<Figure size 1080x360 with 1 Axes>"
      ]
     },
     "metadata": {
      "needs_background": "light"
     },
     "output_type": "display_data"
    }
   ],
   "source": [
    "plt.figure(figsize=(15,5))\n",
    "ax=sns.countplot(x=\"10 What is the operating system (OS) of your device?\\t\\t\\t\\t                                          \", data=data)\n",
    "print(data[\"10 What is the operating system (OS) of your device?\\t\\t\\t\\t                                          \"].value_counts())"
   ]
  },
  {
   "cell_type": "code",
   "execution_count": 18,
   "id": "66468122",
   "metadata": {},
   "outputs": [
    {
     "name": "stdout",
     "output_type": "stream",
     "text": [
      "Google chrome      216\n",
      "Safari              40\n",
      "Opera                8\n",
      "Mozilla Firefox      5\n",
      "Name: 11 What browser do you run on your device to access the website?\\t\\t\\t                                                          , dtype: int64\n"
     ]
    },
    {
     "data": {
      "image/png": "[encoded data removed]",
      "text/plain": [
       "<Figure size 1080x360 with 1 Axes>"
      ]
     },
     "metadata": {
      "needs_background": "light"
     },
     "output_type": "display_data"
    }
   ],
   "source": [
    "plt.figure(figsize=(15,5))\n",
    "ax=sns.countplot(x=\"11 What browser do you run on your device to access the website?\\t\\t\\t                                                          \", data=data)\n",
    "print(data[\"11 What browser do you run on your device to access the website?\\t\\t\\t                                                          \"].value_counts())"
   ]
  },
  {
   "cell_type": "code",
   "execution_count": 19,
   "id": "48257c2d",
   "metadata": {},
   "outputs": [
    {
     "name": "stdout",
     "output_type": "stream",
     "text": [
      "Search Engine        230\n",
      "Content Marketing     20\n",
      "Display Adverts       19\n",
      "Name: 12 Which channel did you follow to arrive at your favorite online store for the first time?                                                                   , dtype: int64\n"
     ]
    },
    {
     "data": {
      "image/png": "[encoded data removed]",
      "text/plain": [
       "<Figure size 1080x360 with 1 Axes>"
      ]
     },
     "metadata": {
      "needs_background": "light"
     },
     "output_type": "display_data"
    }
   ],
   "source": [
    "plt.figure(figsize=(15,5))\n",
    "ax=sns.countplot(x=\"12 Which channel did you follow to arrive at your favorite online store for the first time?                                                                   \", data=data)\n",
    "print(data[\"12 Which channel did you follow to arrive at your favorite online store for the first time?                                                                   \"].value_counts())"
   ]
  },
  {
   "cell_type": "code",
   "execution_count": 20,
   "id": "d4faefe1",
   "metadata": {},
   "outputs": [
    {
     "name": "stdout",
     "output_type": "stream",
     "text": [
      "Search Engine      87\n",
      "Via application    86\n",
      "Direct URL         70\n",
      "E-mail             18\n",
      "Social Media        8\n",
      "Name: 13 After first visit, how do you reach the online retail store?\\t\\t\\t\\t                                                   , dtype: int64\n"
     ]
    },
    {
     "data": {
      "image/png": "[encoded data removed]",
      "text/plain": [
       "<Figure size 1080x360 with 1 Axes>"
      ]
     },
     "metadata": {
      "needs_background": "light"
     },
     "output_type": "display_data"
    }
   ],
   "source": [
    "plt.figure(figsize=(15,5))\n",
    "ax=sns.countplot(x=\"13 After first visit, how do you reach the online retail store?\\t\\t\\t\\t                                                   \", data=data)\n",
    "print(data[\"13 After first visit, how do you reach the online retail store?\\t\\t\\t\\t                                                   \"].value_counts())"
   ]
  },
  {
   "cell_type": "code",
   "execution_count": 21,
   "id": "1c82e1bf",
   "metadata": {},
   "outputs": [
    {
     "name": "stdout",
     "output_type": "stream",
     "text": [
      "more than 15 mins    123\n",
      "6-10 mins             71\n",
      "11-15 mins            46\n",
      "Less than 1 min       15\n",
      "1-5 mins              14\n",
      "Name: 14 How much time do you explore the e- retail store before making a purchase decision?                                                                   , dtype: int64\n"
     ]
    },
    {
     "data": {
      "image/png": "[encoded data removed]",
      "text/plain": [
       "<Figure size 1080x360 with 1 Axes>"
      ]
     },
     "metadata": {
      "needs_background": "light"
     },
     "output_type": "display_data"
    }
   ],
   "source": [
    "plt.figure(figsize=(15,5))\n",
    "ax=sns.countplot(x=\"14 How much time do you explore the e- retail store before making a purchase decision?                                                                   \", data=data)\n",
    "print(data[\"14 How much time do you explore the e- retail store before making a purchase decision?                                                                   \"].value_counts())"
   ]
  },
  {
   "cell_type": "code",
   "execution_count": 22,
   "id": "72957bfd",
   "metadata": {},
   "outputs": [
    {
     "name": "stdout",
     "output_type": "stream",
     "text": [
      "Credit/Debit cards                    148\n",
      "Cash on delivery (CoD)                 76\n",
      "E-wallets (Paytm, Freecharge etc.)     45\n",
      "Name: 15 What is your preferred payment Option?\\t\\t\\t\\t\\t                                                                                                                               , dtype: int64\n"
     ]
    },
    {
     "data": {
      "image/png": "[encoded data removed]",
      "text/plain": [
       "<Figure size 1080x360 with 1 Axes>"
      ]
     },
     "metadata": {
      "needs_background": "light"
     },
     "output_type": "display_data"
    }
   ],
   "source": [
    "plt.figure(figsize=(15,5))\n",
    "ax=sns.countplot(x=\"15 What is your preferred payment Option?\\t\\t\\t\\t\\t                                                                                                                               \", data=data)\n",
    "print(data[\"15 What is your preferred payment Option?\\t\\t\\t\\t\\t                                                                                                                               \"].value_counts())"
   ]
  },
  {
   "cell_type": "code",
   "execution_count": 23,
   "id": "f578c322",
   "metadata": {},
   "outputs": [
    {
     "name": "stdout",
     "output_type": "stream",
     "text": [
      "Sometimes          171\n",
      "Never               48\n",
      "Frequently          35\n",
      "Very frequently     15\n",
      "Name: 16 How frequently do you abandon (selecting an items and leaving without making payment) your shopping cart?\\t\\t\\t\\t\\t\\t\\t                                                   , dtype: int64\n"
     ]
    },
    {
     "data": {
      "image/png": "[encoded data removed]",
      "text/plain": [
       "<Figure size 1080x360 with 1 Axes>"
      ]
     },
     "metadata": {
      "needs_background": "light"
     },
     "output_type": "display_data"
    }
   ],
   "source": [
    "plt.figure(figsize=(15,5))\n",
    "ax=sns.countplot(x=\"16 How frequently do you abandon (selecting an items and leaving without making payment) your shopping cart?\\t\\t\\t\\t\\t\\t\\t                                                   \", data=data)\n",
    "print(data[\"16 How frequently do you abandon (selecting an items and leaving without making payment) your shopping cart?\\t\\t\\t\\t\\t\\t\\t                                                   \"].value_counts())"
   ]
  },
  {
   "cell_type": "code",
   "execution_count": 24,
   "id": "982bcb19",
   "metadata": {},
   "outputs": [
    {
     "name": "stdout",
     "output_type": "stream",
     "text": [
      "Better alternative offer        133\n",
      "Promo code not applicable        54\n",
      "Change in price                  37\n",
      "Lack of trust                    31\n",
      "No preferred mode of payment     14\n",
      "Name: 17 Why did you abandon the “Bag”, “Shopping Cart”?\\t\\t\\t\\t\\t                                                                                                                                                       , dtype: int64\n"
     ]
    },
    {
     "data": {
      "image/png": "[encoded data removed]",
      "text/plain": [
       "<Figure size 1080x360 with 1 Axes>"
      ]
     },
     "metadata": {
      "needs_background": "light"
     },
     "output_type": "display_data"
    }
   ],
   "source": [
    "plt.figure(figsize=(15,5))\n",
    "ax=sns.countplot(x=\"17 Why did you abandon the “Bag”, “Shopping Cart”?\\t\\t\\t\\t\\t                                                                                                                                                       \", data=data)\n",
    "print(data[\"17 Why did you abandon the “Bag”, “Shopping Cart”?\\t\\t\\t\\t\\t                                                                                                                                                       \"].value_counts())"
   ]
  },
  {
   "cell_type": "code",
   "execution_count": 25,
   "id": "bffdd0d3",
   "metadata": {},
   "outputs": [
    {
     "name": "stdout",
     "output_type": "stream",
     "text": [
      "Strongly agree (5)       164\n",
      "Agree (4)                 80\n",
      "Strongly disagree (1)     18\n",
      "Indifferent (3)            7\n",
      "Name: 18 The content on the website must be easy to read and understand, dtype: int64\n"
     ]
    },
    {
     "data": {
      "image/png": "[encoded data removed]",
      "text/plain": [
       "<Figure size 1080x360 with 1 Axes>"
      ]
     },
     "metadata": {
      "needs_background": "light"
     },
     "output_type": "display_data"
    }
   ],
   "source": [
    "plt.figure(figsize=(15,5))\n",
    "ax=sns.countplot(x=\"18 The content on the website must be easy to read and understand\", data=data)\n",
    "print(data[\"18 The content on the website must be easy to read and understand\"].value_counts())"
   ]
  },
  {
   "cell_type": "code",
   "execution_count": 26,
   "id": "b08b155d",
   "metadata": {},
   "outputs": [
    {
     "name": "stdout",
     "output_type": "stream",
     "text": [
      "Strongly agree (5)    116\n",
      "Agree (4)              92\n",
      "Indifferent (3)        43\n",
      "Dis-agree (2)          18\n",
      "Name: 19 Information on similar product to the one highlighted  is important for product comparison, dtype: int64\n"
     ]
    },
    {
     "data": {
      "image/png": "[encoded data removed]",
      "text/plain": [
       "<Figure size 1080x360 with 1 Axes>"
      ]
     },
     "metadata": {
      "needs_background": "light"
     },
     "output_type": "display_data"
    }
   ],
   "source": [
    "plt.figure(figsize=(15,5))\n",
    "ax=sns.countplot(x=\"19 Information on similar product to the one highlighted  is important for product comparison\", data=data)\n",
    "print(data[\"19 Information on similar product to the one highlighted  is important for product comparison\"].value_counts())"
   ]
  },
  {
   "cell_type": "code",
   "execution_count": 27,
   "id": "f3af1c33",
   "metadata": {},
   "outputs": [
    {
     "name": "stdout",
     "output_type": "stream",
     "text": [
      "Agree (4)                101\n",
      "Strongly agree (5)        87\n",
      "Indifferent (3)           52\n",
      "Dis-agree (2)             18\n",
      "Strongly disagree (1)     11\n",
      "Name: 20 Complete information on listed seller and product being offered is important for purchase decision., dtype: int64\n"
     ]
    },
    {
     "data": {
      "image/png": "[encoded data removed]",
      "text/plain": [
       "<Figure size 1080x360 with 1 Axes>"
      ]
     },
     "metadata": {
      "needs_background": "light"
     },
     "output_type": "display_data"
    }
   ],
   "source": [
    "plt.figure(figsize=(15,5))\n",
    "ax=sns.countplot(x=\"20 Complete information on listed seller and product being offered is important for purchase decision.\", data=data)\n",
    "print(data[\"20 Complete information on listed seller and product being offered is important for purchase decision.\"].value_counts())"
   ]
  },
  {
   "cell_type": "code",
   "execution_count": 28,
   "id": "fff983f6",
   "metadata": {},
   "outputs": [
    {
     "name": "stdout",
     "output_type": "stream",
     "text": [
      "Agree (4)                132\n",
      "Strongly agree (5)       107\n",
      "Strongly disagree (1)     18\n",
      "Dis-agree (2)             12\n",
      "Name: 21 All relevant information on listed products must be stated clearly, dtype: int64\n"
     ]
    },
    {
     "data": {
      "image/png": "[encoded data removed]",
      "text/plain": [
       "<Figure size 1080x360 with 1 Axes>"
      ]
     },
     "metadata": {
      "needs_background": "light"
     },
     "output_type": "display_data"
    }
   ],
   "source": [
    "plt.figure(figsize=(15,5))\n",
    "ax=sns.countplot(x=\"21 All relevant information on listed products must be stated clearly\", data=data)\n",
    "print(data[\"21 All relevant information on listed products must be stated clearly\"].value_counts())"
   ]
  },
  {
   "cell_type": "code",
   "execution_count": 29,
   "id": "471b9e6e",
   "metadata": {},
   "outputs": [
    {
     "name": "stdout",
     "output_type": "stream",
     "text": [
      "Strongly agree (5)       141\n",
      "Agree (4)                105\n",
      "Strongly disagree (1)     18\n",
      "Dis-agree (2)              5\n",
      "Name: 22 Ease of navigation in website, dtype: int64\n"
     ]
    },
    {
     "data": {
      "image/png": "[encoded data removed]",
      "text/plain": [
       "<Figure size 1080x360 with 1 Axes>"
      ]
     },
     "metadata": {
      "needs_background": "light"
     },
     "output_type": "display_data"
    }
   ],
   "source": [
    "plt.figure(figsize=(15,5))\n",
    "ax=sns.countplot(x=\"22 Ease of navigation in website\", data=data)\n",
    "print(data[\"22 Ease of navigation in website\"].value_counts())"
   ]
  },
  {
   "cell_type": "code",
   "execution_count": 30,
   "id": "48110355",
   "metadata": {},
   "outputs": [
    {
     "name": "stdout",
     "output_type": "stream",
     "text": [
      "Strongly agree (5)       115\n",
      "Agree (4)                112\n",
      "Dis-agree (2)             18\n",
      "Strongly disagree (1)     12\n",
      "Indifferent (3)           12\n",
      "Name: 23 Loading and processing speed, dtype: int64\n"
     ]
    },
    {
     "data": {
      "image/png": "[encoded data removed]",
      "text/plain": [
       "<Figure size 1080x360 with 1 Axes>"
      ]
     },
     "metadata": {
      "needs_background": "light"
     },
     "output_type": "display_data"
    }
   ],
   "source": [
    "plt.figure(figsize=(15,5))\n",
    "ax=sns.countplot(x=\"23 Loading and processing speed\", data=data)\n",
    "print(data[\"23 Loading and processing speed\"].value_counts())"
   ]
  },
  {
   "cell_type": "code",
   "execution_count": 31,
   "id": "8251e9e8",
   "metadata": {},
   "outputs": [
    {
     "name": "stdout",
     "output_type": "stream",
     "text": [
      "Strongly agree (5)       189\n",
      "Agree (4)                 45\n",
      "Strongly disagree (1)     18\n",
      "Dis-agree (2)             12\n",
      "Indifferent (3)            5\n",
      "Name: 24 User friendly Interface of the website, dtype: int64\n"
     ]
    },
    {
     "data": {
      "image/png": "[encoded data removed]",
      "text/plain": [
       "<Figure size 1080x360 with 1 Axes>"
      ]
     },
     "metadata": {
      "needs_background": "light"
     },
     "output_type": "display_data"
    }
   ],
   "source": [
    "plt.figure(figsize=(15,5))\n",
    "ax=sns.countplot(x=\"24 User friendly Interface of the website\", data=data)\n",
    "print(data[\"24 User friendly Interface of the website\"].value_counts())"
   ]
  },
  {
   "cell_type": "code",
   "execution_count": 32,
   "id": "1e8708f5",
   "metadata": {},
   "outputs": [
    {
     "name": "stdout",
     "output_type": "stream",
     "text": [
      "Strongly agree (5)    159\n",
      "Agree (4)              80\n",
      "Dis-agree (2)          30\n",
      "Name: 25 Convenient Payment methods, dtype: int64\n"
     ]
    },
    {
     "data": {
      "image/png": "[encoded data removed]",
      "text/plain": [
       "<Figure size 1080x360 with 1 Axes>"
      ]
     },
     "metadata": {
      "needs_background": "light"
     },
     "output_type": "display_data"
    }
   ],
   "source": [
    "plt.figure(figsize=(15,5))\n",
    "ax=sns.countplot(x=\"25 Convenient Payment methods\", data=data)\n",
    "print(data[\"25 Convenient Payment methods\"].value_counts())"
   ]
  },
  {
   "cell_type": "code",
   "execution_count": 33,
   "id": "622572ae",
   "metadata": {},
   "outputs": [
    {
     "name": "stdout",
     "output_type": "stream",
     "text": [
      "Strongly agree (5)    141\n",
      "Agree (4)              86\n",
      "Disagree (2)           30\n",
      "indifferent  (3)       12\n",
      "Name: 26 Trust that the online retail store will fulfill its part of the transaction at the stipulated time, dtype: int64\n"
     ]
    },
    {
     "data": {
      "image/png": "[encoded data removed]",
      "text/plain": [
       "<Figure size 1080x360 with 1 Axes>"
      ]
     },
     "metadata": {
      "needs_background": "light"
     },
     "output_type": "display_data"
    }
   ],
   "source": [
    "plt.figure(figsize=(15,5))\n",
    "ax=sns.countplot(x=\"26 Trust that the online retail store will fulfill its part of the transaction at the stipulated time\", data=data)\n",
    "print(data[\"26 Trust that the online retail store will fulfill its part of the transaction at the stipulated time\"].value_counts())"
   ]
  },
  {
   "cell_type": "code",
   "execution_count": 34,
   "id": "8f569116",
   "metadata": {},
   "outputs": [
    {
     "name": "stdout",
     "output_type": "stream",
     "text": [
      "Strongly agree (5)       194\n",
      "Agree (4)                 42\n",
      "Strongly disagree (1)     18\n",
      "indifferent (3)           15\n",
      "Name: 27 Empathy (readiness to assist with queries) towards the customers, dtype: int64\n"
     ]
    },
    {
     "data": {
      "image/png": "[encoded data removed]",
      "text/plain": [
       "<Figure size 1080x360 with 1 Axes>"
      ]
     },
     "metadata": {
      "needs_background": "light"
     },
     "output_type": "display_data"
    }
   ],
   "source": [
    "plt.figure(figsize=(15,5))\n",
    "ax=sns.countplot(x=\"27 Empathy (readiness to assist with queries) towards the customers\", data=data)\n",
    "print(data[\"27 Empathy (readiness to assist with queries) towards the customers\"].value_counts())"
   ]
  },
  {
   "cell_type": "code",
   "execution_count": 35,
   "id": "99446f09",
   "metadata": {},
   "outputs": [
    {
     "name": "stdout",
     "output_type": "stream",
     "text": [
      "Strongly agree (5)    185\n",
      "Agree (4)              58\n",
      "indifferent (3)        26\n",
      "Name: 28 Being able to guarantee the privacy of the customer, dtype: int64\n"
     ]
    },
    {
     "data": {
      "image/png": "[encoded data removed]",
      "text/plain": [
       "<Figure size 1080x360 with 1 Axes>"
      ]
     },
     "metadata": {
      "needs_background": "light"
     },
     "output_type": "display_data"
    }
   ],
   "source": [
    "plt.figure(figsize=(15,5))\n",
    "ax=sns.countplot(x=\"28 Being able to guarantee the privacy of the customer\", data=data)\n",
    "print(data[\"28 Being able to guarantee the privacy of the customer\"].value_counts())"
   ]
  },
  {
   "cell_type": "code",
   "execution_count": 36,
   "id": "2903637a",
   "metadata": {},
   "outputs": [
    {
     "name": "stdout",
     "output_type": "stream",
     "text": [
      "Strongly agree (5)       149\n",
      "Agree (4)                 94\n",
      "indifferent (3)           15\n",
      "Strongly disagree (1)     11\n",
      "Name: 29 Responsiveness, availability of several communication channels (email, online rep, twitter, phone etc.), dtype: int64\n"
     ]
    },
    {
     "data": {
      "image/png": "[encoded data removed]",
      "text/plain": [
       "<Figure size 1080x360 with 1 Axes>"
      ]
     },
     "metadata": {
      "needs_background": "light"
     },
     "output_type": "display_data"
    }
   ],
   "source": [
    "plt.figure(figsize=(15,5))\n",
    "ax=sns.countplot(x=\"29 Responsiveness, availability of several communication channels (email, online rep, twitter, phone etc.)\", data=data)\n",
    "print(data[\"29 Responsiveness, availability of several communication channels (email, online rep, twitter, phone etc.)\"].value_counts())"
   ]
  },
  {
   "cell_type": "code",
   "execution_count": 37,
   "id": "82ac7ba6",
   "metadata": {},
   "outputs": [
    {
     "name": "stdout",
     "output_type": "stream",
     "text": [
      "Strongly agree (5)       105\n",
      "Agree (4)                 85\n",
      "indifferent (3)           50\n",
      "Strongly disagree (1)     18\n",
      "Dis-agree (2)             11\n",
      "Name: 30 Online shopping gives monetary benefit and discounts, dtype: int64\n"
     ]
    },
    {
     "data": {
      "image/png": "[encoded data removed]",
      "text/plain": [
       "<Figure size 1080x360 with 1 Axes>"
      ]
     },
     "metadata": {
      "needs_background": "light"
     },
     "output_type": "display_data"
    }
   ],
   "source": [
    "plt.figure(figsize=(15,5))\n",
    "ax=sns.countplot(x=\"30 Online shopping gives monetary benefit and discounts\", data=data)\n",
    "print(data[\"30 Online shopping gives monetary benefit and discounts\"].value_counts())"
   ]
  },
  {
   "cell_type": "code",
   "execution_count": 38,
   "id": "057e2dad",
   "metadata": {},
   "outputs": [
    {
     "name": "stdout",
     "output_type": "stream",
     "text": [
      "Strongly agree (5)       86\n",
      "indifferent (3)          75\n",
      "Agree (4)                59\n",
      "Strongly disagree (1)    30\n",
      "Dis-agree (2)            19\n",
      "Name: 31 Enjoyment is derived from shopping online, dtype: int64\n"
     ]
    },
    {
     "data": {
      "image/png": "[encoded data removed]",
      "text/plain": [
       "<Figure size 1080x360 with 1 Axes>"
      ]
     },
     "metadata": {
      "needs_background": "light"
     },
     "output_type": "display_data"
    }
   ],
   "source": [
    "plt.figure(figsize=(15,5))\n",
    "ax=sns.countplot(x=\"31 Enjoyment is derived from shopping online\", data=data)\n",
    "print(data[\"31 Enjoyment is derived from shopping online\"].value_counts())"
   ]
  },
  {
   "cell_type": "code",
   "execution_count": 39,
   "id": "8f42ae9f",
   "metadata": {},
   "outputs": [
    {
     "name": "stdout",
     "output_type": "stream",
     "text": [
      "Strongly agree (5)    146\n",
      "Agree (4)              78\n",
      "indifferent (3)        33\n",
      "Dis-agree (2)          12\n",
      "Name: 32 Shopping online is convenient and flexible, dtype: int64\n"
     ]
    },
    {
     "data": {
      "image/png": "[encoded data removed]",
      "text/plain": [
       "<Figure size 1080x360 with 1 Axes>"
      ]
     },
     "metadata": {
      "needs_background": "light"
     },
     "output_type": "display_data"
    }
   ],
   "source": [
    "plt.figure(figsize=(15,5))\n",
    "ax=sns.countplot(x=\"32 Shopping online is convenient and flexible\", data=data)\n",
    "print(data[\"32 Shopping online is convenient and flexible\"].value_counts())"
   ]
  },
  {
   "cell_type": "code",
   "execution_count": 40,
   "id": "df89098c",
   "metadata": {},
   "outputs": [
    {
     "name": "stdout",
     "output_type": "stream",
     "text": [
      "Strongly agree (5)    198\n",
      "Agree (4)              51\n",
      "Dis-agree (2)          20\n",
      "Name: 33 Return and replacement policy of the e-tailer is important for purchase decision, dtype: int64\n"
     ]
    },
    {
     "data": {
      "image/png": "[encoded data removed]",
      "text/plain": [
       "<Figure size 1080x360 with 1 Axes>"
      ]
     },
     "metadata": {
      "needs_background": "light"
     },
     "output_type": "display_data"
    }
   ],
   "source": [
    "plt.figure(figsize=(15,5))\n",
    "ax=sns.countplot(x=\"33 Return and replacement policy of the e-tailer is important for purchase decision\", data=data)\n",
    "print(data[\"33 Return and replacement policy of the e-tailer is important for purchase decision\"].value_counts())"
   ]
  },
  {
   "cell_type": "code",
   "execution_count": 41,
   "id": "c5c260ad",
   "metadata": {},
   "outputs": [
    {
     "name": "stdout",
     "output_type": "stream",
     "text": [
      "Strongly agree (5)       115\n",
      "Agree (4)                 64\n",
      "indifferent (3)           64\n",
      "Dis-agree (2)             15\n",
      "Strongly disagree (1)     11\n",
      "Name: 34 Gaining access to loyalty programs is a benefit of shopping online, dtype: int64\n"
     ]
    },
    {
     "data": {
      "image/png": "[encoded data removed]",
      "text/plain": [
       "<Figure size 1080x360 with 1 Axes>"
      ]
     },
     "metadata": {
      "needs_background": "light"
     },
     "output_type": "display_data"
    }
   ],
   "source": [
    "plt.figure(figsize=(15,5))\n",
    "ax=sns.countplot(x=\"34 Gaining access to loyalty programs is a benefit of shopping online\", data=data)\n",
    "print(data[\"34 Gaining access to loyalty programs is a benefit of shopping online\"].value_counts())"
   ]
  },
  {
   "cell_type": "code",
   "execution_count": 42,
   "id": "7f52e699",
   "metadata": {},
   "outputs": [
    {
     "name": "stdout",
     "output_type": "stream",
     "text": [
      "Strongly agree (5)    133\n",
      "Agree (4)              80\n",
      "indifferent (3)        56\n",
      "Name: 35 Displaying quality Information on the website improves satisfaction of customers, dtype: int64\n"
     ]
    },
    {
     "data": {
      "image/png": "[encoded data removed]",
      "text/plain": [
       "<Figure size 1080x360 with 1 Axes>"
      ]
     },
     "metadata": {
      "needs_background": "light"
     },
     "output_type": "display_data"
    }
   ],
   "source": [
    "plt.figure(figsize=(15,5))\n",
    "ax=sns.countplot(x=\"35 Displaying quality Information on the website improves satisfaction of customers\", data=data)\n",
    "print(data[\"35 Displaying quality Information on the website improves satisfaction of customers\"].value_counts())"
   ]
  },
  {
   "cell_type": "code",
   "execution_count": 43,
   "id": "324e2a72",
   "metadata": {},
   "outputs": [
    {
     "name": "stdout",
     "output_type": "stream",
     "text": [
      "Strongly agree (5)    175\n",
      "Agree (4)              86\n",
      "Dis-agree (2)           8\n",
      "Name: 36 User derive satisfaction while shopping on a good quality website or application, dtype: int64\n"
     ]
    },
    {
     "data": {
      "image/png": "[encoded data removed]",
      "text/plain": [
       "<Figure size 1080x360 with 1 Axes>"
      ]
     },
     "metadata": {
      "needs_background": "light"
     },
     "output_type": "display_data"
    }
   ],
   "source": [
    "plt.figure(figsize=(15,5))\n",
    "ax=sns.countplot(x=\"36 User derive satisfaction while shopping on a good quality website or application\", data=data)\n",
    "print(data[\"36 User derive satisfaction while shopping on a good quality website or application\"].value_counts())"
   ]
  },
  {
   "cell_type": "code",
   "execution_count": 44,
   "id": "c65173bc",
   "metadata": {},
   "outputs": [
    {
     "name": "stdout",
     "output_type": "stream",
     "text": [
      "Strongly agree (5)    164\n",
      "Agree (4)              54\n",
      "indifferent (3)        40\n",
      "Dis-agree (2)          11\n",
      "Name: 37 Net Benefit derived from shopping online can lead to users satisfaction, dtype: int64\n"
     ]
    },
    {
     "data": {
      "image/png": "[encoded data removed]",
      "text/plain": [
       "<Figure size 1080x360 with 1 Axes>"
      ]
     },
     "metadata": {
      "needs_background": "light"
     },
     "output_type": "display_data"
    }
   ],
   "source": [
    "plt.figure(figsize=(15,5))\n",
    "ax=sns.countplot(x=\"37 Net Benefit derived from shopping online can lead to users satisfaction\", data=data)\n",
    "print(data[\"37 Net Benefit derived from shopping online can lead to users satisfaction\"].value_counts())"
   ]
  },
  {
   "cell_type": "code",
   "execution_count": 45,
   "id": "b9e7805e",
   "metadata": {},
   "outputs": [
    {
     "name": "stdout",
     "output_type": "stream",
     "text": [
      "Strongly agree (5)       122\n",
      "Agree (4)                117\n",
      "Strongly disagree (1)     18\n",
      "Dis-agree (2)              7\n",
      "indifferent (3)            5\n",
      "Name: 38 User satisfaction cannot exist without trust, dtype: int64\n"
     ]
    },
    {
     "data": {
      "image/png": "[encoded data removed]",
      "text/plain": [
       "<Figure size 1080x360 with 1 Axes>"
      ]
     },
     "metadata": {
      "needs_background": "light"
     },
     "output_type": "display_data"
    }
   ],
   "source": [
    "plt.figure(figsize=(15,5))\n",
    "ax=sns.countplot(x=\"38 User satisfaction cannot exist without trust\", data=data)\n",
    "print(data[\"38 User satisfaction cannot exist without trust\"].value_counts())"
   ]
  },
  {
   "cell_type": "code",
   "execution_count": 46,
   "id": "7f81ffe8",
   "metadata": {},
   "outputs": [
    {
     "name": "stdout",
     "output_type": "stream",
     "text": [
      "Strongly agree (5)    111\n",
      "Agree (4)              94\n",
      "indifferent (3)        57\n",
      "Dis-agree (2)           7\n",
      "Name: 39 Offering a wide variety of listed product in several category, dtype: int64\n"
     ]
    },
    {
     "data": {
      "image/png": "[encoded data removed]",
      "text/plain": [
       "<Figure size 1080x360 with 1 Axes>"
      ]
     },
     "metadata": {
      "needs_background": "light"
     },
     "output_type": "display_data"
    }
   ],
   "source": [
    "plt.figure(figsize=(15,5))\n",
    "ax=sns.countplot(x=\"39 Offering a wide variety of listed product in several category\", data=data)\n",
    "print(data[\"39 Offering a wide variety of listed product in several category\"].value_counts())"
   ]
  },
  {
   "cell_type": "code",
   "execution_count": 47,
   "id": "aabcc8af",
   "metadata": {},
   "outputs": [
    {
     "name": "stdout",
     "output_type": "stream",
     "text": [
      "Strongly agree (5)    135\n",
      "Agree (4)              98\n",
      "indifferent (3)        31\n",
      "Disagree (2)            5\n",
      "Name: 40 Provision of complete and relevant product information, dtype: int64\n"
     ]
    },
    {
     "data": {
      "image/png": "[encoded data removed]",
      "text/plain": [
       "<Figure size 1080x360 with 1 Axes>"
      ]
     },
     "metadata": {
      "needs_background": "light"
     },
     "output_type": "display_data"
    }
   ],
   "source": [
    "plt.figure(figsize=(15,5))\n",
    "ax=sns.countplot(x=\"40 Provision of complete and relevant product information\", data=data)\n",
    "print(data[\"40 Provision of complete and relevant product information\"].value_counts())"
   ]
  },
  {
   "cell_type": "code",
   "execution_count": 48,
   "id": "87785c70",
   "metadata": {},
   "outputs": [
    {
     "name": "stdout",
     "output_type": "stream",
     "text": [
      "Strongly agree (5)    148\n",
      "Agree (4)              75\n",
      "Disagree (2)           31\n",
      "indifferent (3)        15\n",
      "Name: 41 Monetary savings, dtype: int64\n"
     ]
    },
    {
     "data": {
      "image/png": "[encoded data removed]",
      "text/plain": [
       "<Figure size 1080x360 with 1 Axes>"
      ]
     },
     "metadata": {
      "needs_background": "light"
     },
     "output_type": "display_data"
    }
   ],
   "source": [
    "plt.figure(figsize=(15,5))\n",
    "ax=sns.countplot(x=\"41 Monetary savings\", data=data)\n",
    "print(data[\"41 Monetary savings\"].value_counts())"
   ]
  },
  {
   "cell_type": "code",
   "execution_count": 49,
   "id": "57941242",
   "metadata": {},
   "outputs": [
    {
     "name": "stdout",
     "output_type": "stream",
     "text": [
      "Agree (4)             138\n",
      "indifferent (3)        77\n",
      "Strongly agree (5)     54\n",
      "Name: 42 The Convenience of patronizing the online retailer, dtype: int64\n"
     ]
    },
    {
     "data": {
      "image/png": "[encoded data removed]",
      "text/plain": [
       "<Figure size 1080x360 with 1 Axes>"
      ]
     },
     "metadata": {
      "needs_background": "light"
     },
     "output_type": "display_data"
    }
   ],
   "source": [
    "plt.figure(figsize=(15,5))\n",
    "ax=sns.countplot(x=\"42 The Convenience of patronizing the online retailer\", data=data)\n",
    "print(data[\"42 The Convenience of patronizing the online retailer\"].value_counts())"
   ]
  },
  {
   "cell_type": "code",
   "execution_count": 50,
   "id": "4cbbeb9f",
   "metadata": {},
   "outputs": [
    {
     "name": "stdout",
     "output_type": "stream",
     "text": [
      "Agree (4)                101\n",
      "indifferent (3)           59\n",
      "Strongly agree (5)        54\n",
      "Dis-agree (2)             50\n",
      "Strongly disagree (1)      5\n",
      "Name: 43 Shopping on the website gives you the sense of adventure, dtype: int64\n"
     ]
    },
    {
     "data": {
      "image/png": "[encoded data removed]",
      "text/plain": [
       "<Figure size 1080x360 with 1 Axes>"
      ]
     },
     "metadata": {
      "needs_background": "light"
     },
     "output_type": "display_data"
    }
   ],
   "source": [
    "plt.figure(figsize=(15,5))\n",
    "ax=sns.countplot(x=\"43 Shopping on the website gives you the sense of adventure\", data=data)\n",
    "print(data[\"43 Shopping on the website gives you the sense of adventure\"].value_counts())"
   ]
  },
  {
   "cell_type": "code",
   "execution_count": 51,
   "id": "feebe0d1",
   "metadata": {},
   "outputs": [
    {
     "name": "stdout",
     "output_type": "stream",
     "text": [
      "indifferent (3)          100\n",
      "Agree (4)                 59\n",
      "Strongly agree (5)        48\n",
      "Strongly disagree (1)     33\n",
      "Dis-agree (2)             29\n",
      "Name: 44 Shopping on your preferred e-tailer enhances your social status, dtype: int64\n"
     ]
    },
    {
     "data": {
      "image/png": "[encoded data removed]",
      "text/plain": [
       "<Figure size 1080x360 with 1 Axes>"
      ]
     },
     "metadata": {
      "needs_background": "light"
     },
     "output_type": "display_data"
    }
   ],
   "source": [
    "plt.figure(figsize=(15,5))\n",
    "ax=sns.countplot(x=\"44 Shopping on your preferred e-tailer enhances your social status\", data=data)\n",
    "print(data[\"44 Shopping on your preferred e-tailer enhances your social status\"].value_counts())"
   ]
  },
  {
   "cell_type": "code",
   "execution_count": 52,
   "id": "a1eef85d",
   "metadata": {},
   "outputs": [
    {
     "name": "stdout",
     "output_type": "stream",
     "text": [
      "indifferent (3)          101\n",
      "Strongly agree (5)        65\n",
      "Agree (4)                 63\n",
      "Disagree (2)              22\n",
      "Strongly disagree (1)     18\n",
      "Name: 45 You feel gratification shopping on your favorite e-tailer, dtype: int64\n"
     ]
    },
    {
     "data": {
      "image/png": "[encoded data removed]",
      "text/plain": [
       "<Figure size 1080x360 with 1 Axes>"
      ]
     },
     "metadata": {
      "needs_background": "light"
     },
     "output_type": "display_data"
    }
   ],
   "source": [
    "plt.figure(figsize=(15,5))\n",
    "ax=sns.countplot(x=\"45 You feel gratification shopping on your favorite e-tailer\", data=data)\n",
    "print(data[\"45 You feel gratification shopping on your favorite e-tailer\"].value_counts())"
   ]
  },
  {
   "cell_type": "code",
   "execution_count": 53,
   "id": "1a290fa3",
   "metadata": {},
   "outputs": [
    {
     "name": "stdout",
     "output_type": "stream",
     "text": [
      "Agree (4)                88\n",
      "indifferent (3)          88\n",
      "Strongly agree (5)       38\n",
      "Strongly disagree (1)    33\n",
      "Dis-agree (2)            22\n",
      "Name: 46 Shopping on the website helps you fulfill certain roles, dtype: int64\n"
     ]
    },
    {
     "data": {
      "image/png": "[encoded data removed]",
      "text/plain": [
       "<Figure size 1080x360 with 1 Axes>"
      ]
     },
     "metadata": {
      "needs_background": "light"
     },
     "output_type": "display_data"
    }
   ],
   "source": [
    "plt.figure(figsize=(15,5))\n",
    "ax=sns.countplot(x=\"46 Shopping on the website helps you fulfill certain roles\", data=data)\n",
    "print(data[\"46 Shopping on the website helps you fulfill certain roles\"].value_counts())"
   ]
  },
  {
   "cell_type": "code",
   "execution_count": 54,
   "id": "85d4a23e",
   "metadata": {},
   "outputs": [
    {
     "name": "stdout",
     "output_type": "stream",
     "text": [
      "Agree (4)             149\n",
      "Strongly agree (5)     82\n",
      "indifferent (3)        38\n",
      "Name: 47 Getting value for money spent, dtype: int64\n"
     ]
    },
    {
     "data": {
      "image/png": "[encoded data removed]",
      "text/plain": [
       "<Figure size 1080x360 with 1 Axes>"
      ]
     },
     "metadata": {
      "needs_background": "light"
     },
     "output_type": "display_data"
    }
   ],
   "source": [
    "plt.figure(figsize=(15,5))\n",
    "ax=sns.countplot(x=\"47 Getting value for money spent\", data=data)\n",
    "print(data[\"47 Getting value for money spent\"].value_counts())"
   ]
  },
  {
   "cell_type": "code",
   "execution_count": 56,
   "id": "0e695254",
   "metadata": {},
   "outputs": [
    {
     "name": "stdout",
     "output_type": "stream",
     "text": [
      "Amazon.in, Flipkart.com, Paytm.com, Myntra.com, Snapdeal.com    82\n",
      "Amazon.in, Flipkart.com, Myntra.com, Snapdeal.com               44\n",
      "Amazon.in, Flipkart.com                                         32\n",
      "Amazon.in, Flipkart.com, Paytm.com, Snapdeal.com                29\n",
      "Amazon.in, Flipkart.com, Snapdeal.com                           27\n",
      "Amazon.in, Paytm.com, Myntra.com                                20\n",
      "Amazon.in                                                       16\n",
      "Amazon.in, Paytm.com                                            12\n",
      "Amazon.in, Flipkart.com, Paytm.com                               7\n",
      "Name: From the following, tick any (or all) of the online retailers you have shopped from;                                                                           , dtype: int64\n"
     ]
    }
   ],
   "source": [
    "print(data[\"From the following, tick any (or all) of the online retailers you have shopped from;                                                                           \"].value_counts())"
   ]
  },
  {
   "cell_type": "code",
   "execution_count": 58,
   "id": "3134a738",
   "metadata": {},
   "outputs": [
    {
     "name": "stdout",
     "output_type": "stream",
     "text": [
      "Amazon.in, Flipkart.com, Paytm.com, Myntra.com, Snapdeal.com    64\n",
      "Amazon.in, Flipkart.com, Myntra.com, Snapdeal.com               44\n",
      "Amazon.in, Flipkart.com                                         44\n",
      "Amazon.in                                                       29\n",
      "Amazon.in, Flipkart.com, Paytm.com, Snapdeal.com                22\n",
      "Amazon.in, Paytm.com, Myntra.com                                20\n",
      "Amazon.in, Flipkart.com, Myntra.com                             19\n",
      "Paytm.com                                                       12\n",
      "Flipkart.com                                                     8\n",
      "Amazon.in, Paytm.com                                             7\n",
      "Name: Easy to use website or application, dtype: int64\n"
     ]
    }
   ],
   "source": [
    "print(data[\"Easy to use website or application\"].value_counts())"
   ]
  },
  {
   "cell_type": "code",
   "execution_count": 59,
   "id": "2d16bb57",
   "metadata": {},
   "outputs": [
    {
     "name": "stdout",
     "output_type": "stream",
     "text": [
      "Amazon.in, Flipkart.com                                         87\n",
      "Amazon.in                                                       44\n",
      "Amazon.in, Flipkart.com, Paytm.com, Myntra.com, Snapdeal.com    36\n",
      "Amazon.in, Paytm.com, Myntra.com                                20\n",
      "Amazon.in, Myntra.com                                           15\n",
      "Myntra.com                                                      15\n",
      "Flipkart.com, Myntra.com                                        15\n",
      "Amazon.in, Flipkart.com, Myntra.com, Snapdeal.com               14\n",
      "Flipkart.com                                                    12\n",
      "Amazon.in, Flipkart.com, Paytm.com, Snapdeal.com                11\n",
      "Name: Visual appealing web-page layout, dtype: int64\n"
     ]
    }
   ],
   "source": [
    "print(data[\"Visual appealing web-page layout\"].value_counts())"
   ]
  },
  {
   "cell_type": "code",
   "execution_count": 60,
   "id": "d172e56c",
   "metadata": {},
   "outputs": [
    {
     "name": "stdout",
     "output_type": "stream",
     "text": [
      "Amazon.in, Flipkart.com                              130\n",
      "Amazon.in                                             43\n",
      "Amazon.in, Myntra.com                                 20\n",
      "Flipkart.com, Myntra.com                              15\n",
      "Myntra.com                                            15\n",
      "Amazon.in, Flipkart.com, Myntra.com, Snapdeal.com     14\n",
      "Amazon.in, Flipkart.com, Paytm.com                    13\n",
      "Flipkart.com                                          12\n",
      "Paytm.com                                              7\n",
      "Name: Wild variety of product on offer, dtype: int64\n"
     ]
    }
   ],
   "source": [
    "print(data[\"Wild variety of product on offer\"].value_counts())"
   ]
  },
  {
   "cell_type": "code",
   "execution_count": 61,
   "id": "6204d5a3",
   "metadata": {},
   "outputs": [
    {
     "name": "stdout",
     "output_type": "stream",
     "text": [
      "Amazon.in, Flipkart.com                                         100\n",
      "Amazon.in                                                        43\n",
      "Amazon.in, Flipkart.com, Paytm.com                               24\n",
      "Amazon.in, Paytm.com, Myntra.com                                 20\n",
      "Amazon.in, Flipkart.com, Myntra.com                              15\n",
      "Amazon.in, Flipkart.com, Paytm.com, Myntra.com, Snapdeal.com     15\n",
      "Amazon.in, Flipkart.com, Myntra.com, Snapdeal.com                14\n",
      "Snapdeal.com                                                     12\n",
      "Flipkart.com, Snapdeal.com                                       11\n",
      "Flipkart.com                                                      8\n",
      "Amazon.in, Flipkart.com, Snapdeal.com                             7\n",
      "Name: Complete, relevant description information of products, dtype: int64\n"
     ]
    }
   ],
   "source": [
    "print(data[\"Complete, relevant description information of products\"].value_counts())"
   ]
  },
  {
   "cell_type": "code",
   "execution_count": 62,
   "id": "4adecdcc",
   "metadata": {},
   "outputs": [
    {
     "name": "stdout",
     "output_type": "stream",
     "text": [
      "Amazon.in                                                       51\n",
      "Amazon.in, Paytm.com                                            44\n",
      "Amazon.in, Flipkart.com, Myntra.com                             30\n",
      "Amazon.in, Flipkart.com, Paytm.com, Myntra.com, Snapdeal.com    30\n",
      "Amazon.in, Flipkart.com                                         30\n",
      "Amazon.in, Flipkart.com, Snapdeal.com                           25\n",
      "Amazon.in, Flipkart.com, Paytm.com                              25\n",
      "Amazon.in, Flipkart.com, Myntra.com, Snapdeal.com               14\n",
      "Snapdeal.com                                                    12\n",
      "Flipkart.com                                                     8\n",
      "Name: Fast loading website speed of website and application, dtype: int64\n"
     ]
    }
   ],
   "source": [
    "print(data[\"Fast loading website speed of website and application\"].value_counts())"
   ]
  },
  {
   "cell_type": "code",
   "execution_count": 63,
   "id": "6b6c031a",
   "metadata": {},
   "outputs": [
    {
     "name": "stdout",
     "output_type": "stream",
     "text": [
      "Amazon.in                                            61\n",
      "Amazon.in, Flipkart.com                              50\n",
      "Amazon.in, Flipkart.com, Paytm.com                   36\n",
      "Amazon.in, Paytm.com, Myntra.com                     35\n",
      "Amazon.in, Flipkart.com, Snapdeal.com                18\n",
      "Myntra.com                                           15\n",
      "Flipkart.com                                         15\n",
      "Amazon.in, Flipkart.com, Myntra.com, Snapdeal.com    14\n",
      "Amazon.in, Flipkart.com, Paytm.com, Snapdeal.com     13\n",
      "Paytm.com                                            12\n",
      "Name: Reliability of the website or application, dtype: int64\n"
     ]
    }
   ],
   "source": [
    "print(data[\"Reliability of the website or application\"].value_counts())"
   ]
  },
  {
   "cell_type": "code",
   "execution_count": 64,
   "id": "041d6bec",
   "metadata": {},
   "outputs": [
    {
     "name": "stdout",
     "output_type": "stream",
     "text": [
      "Amazon.com                                                   66\n",
      "Amazon.com, Flipkart.com, Paytm.com                          47\n",
      "Amazon.com, Flipkart.com                                     37\n",
      "Amazon.com, Flipkart.com, Myntra.com                         30\n",
      "Paytm.com                                                    25\n",
      "Amazon.com, Paytm.com, Myntra.com                            20\n",
      "Amazon.com, Flipkart.com, Paytm.com, Myntra.com, Snapdeal    15\n",
      "Flipkart.com                                                 15\n",
      "Flipkart.com, Myntra.com, Snapdeal                           14\n",
      "Name: Quickness to complete purchase, dtype: int64\n"
     ]
    }
   ],
   "source": [
    "print(data[\"Quickness to complete purchase\"].value_counts())"
   ]
  },
  {
   "cell_type": "code",
   "execution_count": 66,
   "id": "a1aa5ca6",
   "metadata": {},
   "outputs": [
    {
     "name": "stdout",
     "output_type": "stream",
     "text": [
      "Amazon.in, Flipkart.com                                         65\n",
      "Amazon.in, Flipkart.com, Myntra.com                             40\n",
      "Amazon.in, Flipkart.com, Patym.com, Myntra.com, Snapdeal.com    39\n",
      "Amazon.in                                                       23\n",
      "Patym.com, Myntra.com                                           20\n",
      "Amazon.in, Flipkart.com, Myntra.com, Snapdeal.com               19\n",
      "Amazon.in, Flipkart.com, Snapdeal.com                           18\n",
      "Flipkart.com, Myntra.com, Snapdeal.com                          14\n",
      "Patym.com                                                       12\n",
      "Amazon.in, Patym.com                                            11\n",
      "Flipkart.com                                                     8\n",
      "Name: Availability of several payment options, dtype: int64\n"
     ]
    }
   ],
   "source": [
    "print(data[\"Availability of several payment options\"].value_counts())"
   ]
  },
  {
   "cell_type": "code",
   "execution_count": 67,
   "id": "4fdcd6c2",
   "metadata": {},
   "outputs": [
    {
     "name": "stdout",
     "output_type": "stream",
     "text": [
      "Amazon.in                                 107\n",
      "Amazon.in, Flipkart.com                    82\n",
      "Amazon.in, Flipkart.com, Snapdeal.com      36\n",
      "Amazon.in, Flipkart.com, Myntra.com        15\n",
      "Flipkart.com                               15\n",
      "Flipkart.com, Myntra.com, Snapdeal.com     14\n",
      "Name: Speedy order delivery , dtype: int64\n"
     ]
    }
   ],
   "source": [
    "print(data[\"Speedy order delivery \"].value_counts())"
   ]
  },
  {
   "cell_type": "code",
   "execution_count": 68,
   "id": "ac09aef6",
   "metadata": {},
   "outputs": [
    {
     "name": "stdout",
     "output_type": "stream",
     "text": [
      "Amazon.in                                                       71\n",
      "Amazon.in, Flipkart.com                                         54\n",
      "Amazon.in, Flipkart.com, Myntra.com                             25\n",
      "Amazon.in, Flipkart.com, Paytm.com, Myntra.com, Snapdeal.com    24\n",
      "Paytm.com                                                       18\n",
      "Myntra.com                                                      15\n",
      "Amazon.in, Paytm.com                                            15\n",
      "Flipkart.com                                                    15\n",
      "Amazon.in, Flipkart.com, Myntra.com, Snapdeal.com               14\n",
      "Amazon.in, Flipkart.com, Paytm.com                              11\n",
      "Amazon.in, Flipkart.com, Snapdeal.com                            7\n",
      "Name: Privacy of customers’ information, dtype: int64\n"
     ]
    }
   ],
   "source": [
    "print(data[\"Privacy of customers’ information\"].value_counts())"
   ]
  },
  {
   "cell_type": "code",
   "execution_count": 69,
   "id": "be46543f",
   "metadata": {},
   "outputs": [
    {
     "name": "stdout",
     "output_type": "stream",
     "text": [
      "Amazon.in                                                       51\n",
      "Amazon.in, Flipkart.com, Paytm.com, Myntra.com, Snapdeal.com    42\n",
      "Flipkart.com                                                    33\n",
      "Amazon.in, Flipkart.com, Snapdeal.com                           25\n",
      "Amazon.in, Flipkart.com                                         24\n",
      "Amazon.in, Paytm.com, Myntra.com                                20\n",
      "Amazon.in, Snapdeal.com                                         19\n",
      "Myntra.com                                                      15\n",
      "Paytm.com                                                       15\n",
      "Amazon.in, Flipkart.com, Myntra.com, Snapdeal.com               14\n",
      "Amazon.in, Flipkart.com, Paytm.com                              11\n",
      "Name: Security of customer financial information, dtype: int64\n"
     ]
    }
   ],
   "source": [
    "print(data[\"Security of customer financial information\"].value_counts())"
   ]
  },
  {
   "cell_type": "code",
   "execution_count": 71,
   "id": "02874cb4",
   "metadata": {},
   "outputs": [
    {
     "name": "stdout",
     "output_type": "stream",
     "text": [
      "Amazon.in                                                       76\n",
      "Amazon.in, Flipkart.com, Snapdeal.com                           36\n",
      "Amazon.in, Myntra.com                                           35\n",
      "Amazon.in, Flipkart.com                                         31\n",
      "Flipkart.com                                                    27\n",
      "Amazon.in, Flipkart.com, Myntra.com, Snapdeal.com               25\n",
      "Myntra.com                                                      15\n",
      "Amazon.in, Flipkart.com, Paytm.com, Myntra.com, Snapdeal.com    13\n",
      "Amazon.in, Flipkart.com, Paytm.com                              11\n",
      "Name: Perceived Trustworthiness, dtype: int64\n"
     ]
    }
   ],
   "source": [
    "print(data[\"Perceived Trustworthiness\"].value_counts())"
   ]
  },
  {
   "cell_type": "code",
   "execution_count": 73,
   "id": "38b922f9",
   "metadata": {},
   "outputs": [
    {
     "name": "stdout",
     "output_type": "stream",
     "text": [
      "Amazon.in, Flipkart.com, Myntra.com, Snapdeal    61\n",
      "Amazon.in                                        60\n",
      "Amazon.in, Flipkart.com                          39\n",
      "Amazon.in, Snapdeal                              26\n",
      "Myntra.com                                       20\n",
      "Amazon.in, Flipkart.com, Myntra.com              15\n",
      "Amazon.in, Myntra.com                            15\n",
      "Amazon.in, Flipkart.com, Paytm.com               13\n",
      "Paytm.com                                        12\n",
      "Flipkart.com                                      8\n",
      "Name: Presence of online assistance through multi-channel, dtype: int64\n"
     ]
    }
   ],
   "source": [
    "print(data[\"Presence of online assistance through multi-channel\"].value_counts())"
   ]
  },
  {
   "cell_type": "code",
   "execution_count": 75,
   "id": "6a424d13",
   "metadata": {},
   "outputs": [
    {
     "name": "stdout",
     "output_type": "stream",
     "text": [
      "Amazon.in                                57\n",
      "Amazon.in, Flipkart.com                  38\n",
      "Paytm.com                                38\n",
      "Myntra.com                               35\n",
      "Amazon.in, Flipkart.com, Snapdeal.com    29\n",
      "Snapdeal.com                             25\n",
      "Flipkart.com, Paytm.com                  15\n",
      "Flipkart.com, Paytm.com, Snapdeal.com    13\n",
      "Amazon.in, Paytm.com                     11\n",
      "Flipkart.com                              8\n",
      "Name: Longer time to get logged in (promotion, sales period), dtype: int64\n"
     ]
    }
   ],
   "source": [
    "print(data[\"Longer time to get logged in (promotion, sales period)\"].value_counts())"
   ]
  },
  {
   "cell_type": "code",
   "execution_count": 76,
   "id": "78826dfc",
   "metadata": {},
   "outputs": [
    {
     "name": "stdout",
     "output_type": "stream",
     "text": [
      "Amazon.in, Flipkart.com                60\n",
      "Amazon.in                              39\n",
      "Myntra.com                             35\n",
      "Snapdeal.com                           34\n",
      "Myntra.com, Snapdeal.com               25\n",
      "Flipkart.com, Snapdeal.com             19\n",
      "Paytm.com                              15\n",
      "Flipkart.com                           15\n",
      "Amazon.in, Myntra.com, Snapdeal.com    14\n",
      "Amazon.in, Paytm.com                   13\n",
      "Name: Longer time in displaying graphics and photos (promotion, sales period), dtype: int64\n"
     ]
    }
   ],
   "source": [
    "print(data[\"Longer time in displaying graphics and photos (promotion, sales period)\"].value_counts())"
   ]
  },
  {
   "cell_type": "code",
   "execution_count": 77,
   "id": "170194a8",
   "metadata": {},
   "outputs": [
    {
     "name": "stdout",
     "output_type": "stream",
     "text": [
      "Myntra.com                 75\n",
      "Paytm.com                  52\n",
      "snapdeal.com               41\n",
      "Flipkart.com               38\n",
      "Amazon.in                  38\n",
      "Amazon.in, Paytm.com       13\n",
      "Paytm.com, snapdeal.com     7\n",
      "Amazon.in, Flipkart.com     5\n",
      "Name: Late declaration of price (promotion, sales period), dtype: int64\n"
     ]
    }
   ],
   "source": [
    "print(data[\"Late declaration of price (promotion, sales period)\"].value_counts())"
   ]
  },
  {
   "cell_type": "code",
   "execution_count": 78,
   "id": "34222016",
   "metadata": {},
   "outputs": [
    {
     "name": "stdout",
     "output_type": "stream",
     "text": [
      "Myntra.com                          61\n",
      "Paytm.com                           59\n",
      "Flipkart.com                        32\n",
      "Snapdeal.com                        23\n",
      "Amazon.in, Flipkart.com             18\n",
      "Amazon.in                           16\n",
      "Paytm.com, Snapdeal.com             15\n",
      "Amazon.in, Snapdeal.com             14\n",
      "Amazon.in, Paytm.com                13\n",
      "Flipkart.com, Snapdeal.com          11\n",
      "Amazon.in, Paytm.com, Myntra.com     7\n",
      "Name: Longer page loading time (promotion, sales period), dtype: int64\n"
     ]
    }
   ],
   "source": [
    "print(data[\"Longer page loading time (promotion, sales period)\"].value_counts())"
   ]
  },
  {
   "cell_type": "code",
   "execution_count": 79,
   "id": "dcc86962",
   "metadata": {},
   "outputs": [
    {
     "name": "stdout",
     "output_type": "stream",
     "text": [
      "Snapdeal.com                87\n",
      "Amazon.in                   62\n",
      "Flipkart.com                31\n",
      "Amazon.in, Flipkart.com     29\n",
      "Paytm.com                   25\n",
      "Paytm.com, Snapdeal.com     15\n",
      "Amazon.in, Paytm.com        13\n",
      "Myntra.com, Snapdeal.com     7\n",
      "Name: Limited mode of payment on most products (promotion, sales period), dtype: int64\n"
     ]
    }
   ],
   "source": [
    "print(data[\"Limited mode of payment on most products (promotion, sales period)\"].value_counts())"
   ]
  },
  {
   "cell_type": "code",
   "execution_count": 81,
   "id": "285ffd98",
   "metadata": {},
   "outputs": [
    {
     "name": "stdout",
     "output_type": "stream",
     "text": [
      "Paytm.com                  72\n",
      "Snapdeal.com               64\n",
      "Flipkart.com               44\n",
      "Amazon.in                  37\n",
      "Paytm.com, Snapdeal.com    26\n",
      "Myntra.com                 26\n",
      "Name: Longer delivery period, dtype: int64\n"
     ]
    }
   ],
   "source": [
    "print(data[\"Longer delivery period\"].value_counts())"
   ]
  },
  {
   "cell_type": "code",
   "execution_count": 83,
   "id": "e5f5f527",
   "metadata": {},
   "outputs": [
    {
     "name": "stdout",
     "output_type": "stream",
     "text": [
      "Amazon.in                   96\n",
      "Paytm.com                   63\n",
      "Amazon.in, Flipkart.com     45\n",
      "Myntra.com                  30\n",
      "Flipkart.com                20\n",
      "Snapdeal.com                 8\n",
      "Flipkart.com, Myntra.com     7\n",
      "Name: Change in website/Application design, dtype: int64\n"
     ]
    }
   ],
   "source": [
    "print(data[\"Change in website/Application design\"].value_counts())"
   ]
  },
  {
   "cell_type": "code",
   "execution_count": 84,
   "id": "8f4e26eb",
   "metadata": {},
   "outputs": [
    {
     "name": "stdout",
     "output_type": "stream",
     "text": [
      "Amazon.in                     53\n",
      "Myntra.com                    52\n",
      "Snapdeal.com                  49\n",
      "Paytm.com                     39\n",
      "Flipkart.com                  26\n",
      "Amazon.in, Flipkart.com       25\n",
      "Myntra.com, Snapdeal.com      14\n",
      "Flipkart.com, Snapdeal.com    11\n",
      "Name: Frequent disruption when moving from one page to another, dtype: int64\n"
     ]
    }
   ],
   "source": [
    "print(data[\"Frequent disruption when moving from one page to another\"].value_counts())"
   ]
  },
  {
   "cell_type": "code",
   "execution_count": 86,
   "id": "9cff06d3",
   "metadata": {},
   "outputs": [
    {
     "name": "stdout",
     "output_type": "stream",
     "text": [
      "Amazon.in                             94\n",
      "Flipkart.com                          47\n",
      "Amazon.in, Flipkart.com               45\n",
      "Amazon.in, Flipkart.com, Paytm.com    25\n",
      "Amazon.in, Paytm.com                  18\n",
      "Paytm.com                             15\n",
      "Myntra.com, Snapdeal.com              14\n",
      "Snapdeal.com                          11\n",
      "Name: Website is as efficient as before, dtype: int64\n"
     ]
    }
   ],
   "source": [
    "print(data[\"Website is as efficient as before\"].value_counts())"
   ]
  },
  {
   "cell_type": "code",
   "execution_count": 88,
   "id": "385b3caa",
   "metadata": {},
   "outputs": [
    {
     "name": "stdout",
     "output_type": "stream",
     "text": [
      "Amazon.in                                            79\n",
      "Amazon.in, Flipkart.com                              62\n",
      "Flipkart.com                                         39\n",
      "Amazon.in, Myntra.com                                30\n",
      "Amazon.in, Paytm.com, Myntra.com                     20\n",
      "Amazon.in, Flipkart.com, Myntra.com                  15\n",
      "Amazon.in, Paytm.com                                 13\n",
      "Flipkart.com, Paytm.com, Myntra.com, snapdeal.com    11\n",
      "Name: Which of the Indian online retailer would you recommend to a friend?, dtype: int64\n"
     ]
    }
   ],
   "source": [
    "print(data[\"Which of the Indian online retailer would you recommend to a friend?\"].value_counts())"
   ]
  },
  {
   "cell_type": "markdown",
   "id": "4d86b40e",
   "metadata": {},
   "source": [
    "# Encoding object data type"
   ]
  },
  {
   "cell_type": "code",
   "execution_count": 89,
   "id": "3fa4998b",
   "metadata": {},
   "outputs": [],
   "source": [
    "from sklearn.preprocessing import LabelEncoder\n",
    "enc=LabelEncoder()\n",
    "\n",
    "for column in data:\n",
    "    if data[column].dtype=='object':\n",
    "        df=enc.fit_transform(data[column])\n",
    "        data[column]=df"
   ]
  },
  {
   "cell_type": "markdown",
   "id": "d3e8f26a",
   "metadata": {},
   "source": [
    "# Statistical Analysis"
   ]
  },
  {
   "cell_type": "code",
   "execution_count": 90,
   "id": "3b22a761",
   "metadata": {},
   "outputs": [
    {
     "name": "stdout",
     "output_type": "stream",
     "text": [
      "--------- 1Gender of respondent ---------\n",
      "count    269.000000\n",
      "mean       0.327138\n",
      "std        0.470042\n",
      "min        0.000000\n",
      "25%        0.000000\n",
      "50%        0.000000\n",
      "75%        1.000000\n",
      "max        1.000000\n",
      "Name: 1Gender of respondent, dtype: float64\n",
      "\n",
      "\n",
      "--------- 2 How old are you?  ---------\n",
      "count    269.000000\n",
      "mean       1.330855\n",
      "std        1.183774\n",
      "min        0.000000\n",
      "25%        0.000000\n",
      "50%        1.000000\n",
      "75%        2.000000\n",
      "max        4.000000\n",
      "Name: 2 How old are you? , dtype: float64\n",
      "\n",
      "\n",
      "--------- 3 Which city do you shop online from? ---------\n",
      "count    269.000000\n",
      "mean       4.494424\n",
      "std        3.187687\n",
      "min        0.000000\n",
      "25%        2.000000\n",
      "50%        4.000000\n",
      "75%        7.000000\n",
      "max       10.000000\n",
      "Name: 3 Which city do you shop online from?, dtype: float64\n",
      "\n",
      "\n",
      "--------- 4 What is the Pin Code of where you shop online from? ---------\n",
      "count       269.000000\n",
      "mean     220465.747212\n",
      "std      140524.341051\n",
      "min      110008.000000\n",
      "25%      122018.000000\n",
      "50%      201303.000000\n",
      "75%      201310.000000\n",
      "max      560037.000000\n",
      "Name: 4 What is the Pin Code of where you shop online from?, dtype: float64\n",
      "\n",
      "\n",
      "--------- 5 Since How Long You are Shopping Online ? ---------\n",
      "count    269.000000\n",
      "mean       2.323420\n",
      "std        1.176357\n",
      "min        0.000000\n",
      "25%        1.000000\n",
      "50%        3.000000\n",
      "75%        3.000000\n",
      "max        4.000000\n",
      "Name: 5 Since How Long You are Shopping Online ?, dtype: float64\n",
      "\n",
      "\n",
      "--------- 6 How many times you have made an online purchase in the past 1 year? ---------\n",
      "count    269.000000\n",
      "mean       3.237918\n",
      "std        1.739331\n",
      "min        0.000000\n",
      "25%        2.000000\n",
      "50%        3.000000\n",
      "75%        5.000000\n",
      "max        5.000000\n",
      "Name: 6 How many times you have made an online purchase in the past 1 year?, dtype: float64\n",
      "\n",
      "\n",
      "--------- 7 How do you access the internet while shopping on-line? ---------\n",
      "count    269.000000\n",
      "mean       2.078067\n",
      "std        0.715919\n",
      "min        0.000000\n",
      "25%        2.000000\n",
      "50%        2.000000\n",
      "75%        3.000000\n",
      "max        3.000000\n",
      "Name: 7 How do you access the internet while shopping on-line?, dtype: float64\n",
      "\n",
      "\n",
      "--------- 8 Which device do you use to access the online shopping? ---------\n",
      "count    269.000000\n",
      "mean       1.501859\n",
      "std        0.751240\n",
      "min        0.000000\n",
      "25%        1.000000\n",
      "50%        2.000000\n",
      "75%        2.000000\n",
      "max        3.000000\n",
      "Name: 8 Which device do you use to access the online shopping?, dtype: float64\n",
      "\n",
      "\n",
      "--------- 9 What is the screen size of your mobile device?\t\t\t\t\t\t                                         ---------\n",
      "count    269.000000\n",
      "mean       2.256506\n",
      "std        0.944942\n",
      "min        0.000000\n",
      "25%        2.000000\n",
      "50%        2.000000\n",
      "75%        3.000000\n",
      "max        3.000000\n",
      "Name: 9 What is the screen size of your mobile device?\\t\\t\\t\\t\\t\\t                                        , dtype: float64\n",
      "\n",
      "\n",
      "--------- 10 What is the operating system (OS) of your device?\t\t\t\t                                           ---------\n",
      "count    269.000000\n",
      "mean       1.137546\n",
      "std        0.867985\n",
      "min        0.000000\n",
      "25%        0.000000\n",
      "50%        1.000000\n",
      "75%        2.000000\n",
      "max        2.000000\n",
      "Name: 10 What is the operating system (OS) of your device?\\t\\t\\t\\t                                          , dtype: float64\n",
      "\n",
      "\n",
      "--------- 11 What browser do you run on your device to access the website?\t\t\t                                                           ---------\n",
      "count    269.000000\n",
      "mean       0.524164\n",
      "std        1.097985\n",
      "min        0.000000\n",
      "25%        0.000000\n",
      "50%        0.000000\n",
      "75%        0.000000\n",
      "max        3.000000\n",
      "Name: 11 What browser do you run on your device to access the website?\\t\\t\\t                                                          , dtype: float64\n",
      "\n",
      "\n",
      "--------- 12 Which channel did you follow to arrive at your favorite online store for the first time?                                                                    ---------\n",
      "count    269.000000\n",
      "mean       1.780669\n",
      "std        0.566672\n",
      "min        0.000000\n",
      "25%        2.000000\n",
      "50%        2.000000\n",
      "75%        2.000000\n",
      "max        2.000000\n",
      "Name: 12 Which channel did you follow to arrive at your favorite online store for the first time?                                                                   , dtype: float64\n",
      "\n",
      "\n",
      "--------- 13 After first visit, how do you reach the online retail store?\t\t\t\t                                                    ---------\n",
      "count    269.000000\n",
      "mean       2.081784\n",
      "std        1.555204\n",
      "min        0.000000\n",
      "25%        0.000000\n",
      "50%        2.000000\n",
      "75%        4.000000\n",
      "max        4.000000\n",
      "Name: 13 After first visit, how do you reach the online retail store?\\t\\t\\t\\t                                                   , dtype: float64\n",
      "\n",
      "\n",
      "--------- 14 How much time do you explore the e- retail store before making a purchase decision?                                                                    ---------\n",
      "count    269.000000\n",
      "mean       2.695167\n",
      "std        1.336910\n",
      "min        0.000000\n",
      "25%        2.000000\n",
      "50%        3.000000\n",
      "75%        4.000000\n",
      "max        4.000000\n",
      "Name: 14 How much time do you explore the e- retail store before making a purchase decision?                                                                   , dtype: float64\n",
      "\n",
      "\n",
      "--------- 15 What is your preferred payment Option?\t\t\t\t\t                                                                                                                                ---------\n",
      "count    269.000000\n",
      "mean       0.884758\n",
      "std        0.661938\n",
      "min        0.000000\n",
      "25%        0.000000\n",
      "50%        1.000000\n",
      "75%        1.000000\n",
      "max        2.000000\n",
      "Name: 15 What is your preferred payment Option?\\t\\t\\t\\t\\t                                                                                                                               , dtype: float64\n",
      "\n",
      "\n",
      "--------- 16 How frequently do you abandon (selecting an items and leaving without making payment) your shopping cart?\t\t\t\t\t\t\t                                                    ---------\n",
      "count    269.000000\n",
      "mean       1.617100\n",
      "std        0.781219\n",
      "min        0.000000\n",
      "25%        1.000000\n",
      "50%        2.000000\n",
      "75%        2.000000\n",
      "max        3.000000\n",
      "Name: 16 How frequently do you abandon (selecting an items and leaving without making payment) your shopping cart?\\t\\t\\t\\t\\t\\t\\t                                                   , dtype: float64\n",
      "\n",
      "\n",
      "--------- 17 Why did you abandon the “Bag”, “Shopping Cart”?\t\t\t\t\t                                                                                                                                                        ---------\n",
      "count    269.000000\n",
      "mean       1.327138\n",
      "std        1.589626\n",
      "min        0.000000\n",
      "25%        0.000000\n",
      "50%        1.000000\n",
      "75%        3.000000\n",
      "max        4.000000\n",
      "Name: 17 Why did you abandon the “Bag”, “Shopping Cart”?\\t\\t\\t\\t\\t                                                                                                                                                       , dtype: float64\n",
      "\n",
      "\n",
      "--------- 18 The content on the website must be easy to read and understand ---------\n",
      "count    269.000000\n",
      "mean       1.446097\n",
      "std        0.989626\n",
      "min        0.000000\n",
      "25%        0.000000\n",
      "50%        2.000000\n",
      "75%        2.000000\n",
      "max        3.000000\n",
      "Name: 18 The content on the website must be easy to read and understand, dtype: float64\n",
      "\n",
      "\n",
      "--------- 19 Information on similar product to the one highlighted  is important for product comparison ---------\n",
      "count    269.000000\n",
      "mean       1.680297\n",
      "std        1.330618\n",
      "min        0.000000\n",
      "25%        0.000000\n",
      "50%        2.000000\n",
      "75%        3.000000\n",
      "max        3.000000\n",
      "Name: 19 Information on similar product to the one highlighted  is important for product comparison, dtype: float64\n",
      "\n",
      "\n",
      "--------- 20 Complete information on listed seller and product being offered is important for purchase decision. ---------\n",
      "count    269.000000\n",
      "mean       1.587361\n",
      "std        1.375691\n",
      "min        0.000000\n",
      "25%        0.000000\n",
      "50%        2.000000\n",
      "75%        3.000000\n",
      "max        4.000000\n",
      "Name: 20 Complete information on listed seller and product being offered is important for purchase decision., dtype: float64\n",
      "\n",
      "\n",
      "--------- 21 All relevant information on listed products must be stated clearly ---------\n",
      "count    269.000000\n",
      "mean       1.040892\n",
      "std        1.076461\n",
      "min        0.000000\n",
      "25%        0.000000\n",
      "50%        1.000000\n",
      "75%        2.000000\n",
      "max        3.000000\n",
      "Name: 21 All relevant information on listed products must be stated clearly, dtype: float64\n",
      "\n",
      "\n",
      "--------- 22 Ease of navigation in website ---------\n",
      "count    269.000000\n",
      "mean       1.267658\n",
      "std        1.055774\n",
      "min        0.000000\n",
      "25%        0.000000\n",
      "50%        2.000000\n",
      "75%        2.000000\n",
      "max        3.000000\n",
      "Name: 22 Ease of navigation in website, dtype: float64\n",
      "\n",
      "\n",
      "--------- 23 Loading and processing speed ---------\n",
      "count    269.000000\n",
      "mean       1.617100\n",
      "std        1.483191\n",
      "min        0.000000\n",
      "25%        0.000000\n",
      "50%        2.000000\n",
      "75%        3.000000\n",
      "max        4.000000\n",
      "Name: 23 Loading and processing speed, dtype: float64\n",
      "\n",
      "\n",
      "--------- 24 User friendly Interface of the website ---------\n",
      "count    269.000000\n",
      "mean       2.457249\n",
      "std        1.216734\n",
      "min        0.000000\n",
      "25%        3.000000\n",
      "50%        3.000000\n",
      "75%        3.000000\n",
      "max        4.000000\n",
      "Name: 24 User friendly Interface of the website, dtype: float64\n",
      "\n",
      "\n",
      "--------- 25 Convenient Payment methods ---------\n",
      "count    269.000000\n",
      "mean       1.293680\n",
      "std        0.897341\n",
      "min        0.000000\n",
      "25%        0.000000\n",
      "50%        2.000000\n",
      "75%        2.000000\n",
      "max        2.000000\n",
      "Name: 25 Convenient Payment methods, dtype: float64\n",
      "\n",
      "\n",
      "--------- 26 Trust that the online retail store will fulfill its part of the transaction at the stipulated time ---------\n",
      "count    269.000000\n",
      "mean       1.293680\n",
      "std        0.969304\n",
      "min        0.000000\n",
      "25%        0.000000\n",
      "50%        2.000000\n",
      "75%        2.000000\n",
      "max        3.000000\n",
      "Name: 26 Trust that the online retail store will fulfill its part of the transaction at the stipulated time, dtype: float64\n",
      "\n",
      "\n",
      "--------- 27 Empathy (readiness to assist with queries) towards the customers ---------\n",
      "count    269.000000\n",
      "mean       1.022305\n",
      "std        0.668776\n",
      "min        0.000000\n",
      "25%        1.000000\n",
      "50%        1.000000\n",
      "75%        1.000000\n",
      "max        3.000000\n",
      "Name: 27 Empathy (readiness to assist with queries) towards the customers, dtype: float64\n",
      "\n",
      "\n",
      "--------- 28 Being able to guarantee the privacy of the customer ---------\n",
      "count    269.000000\n",
      "mean       0.881041\n",
      "std        0.547018\n",
      "min        0.000000\n",
      "25%        1.000000\n",
      "50%        1.000000\n",
      "75%        1.000000\n",
      "max        2.000000\n",
      "Name: 28 Being able to guarantee the privacy of the customer, dtype: float64\n",
      "\n",
      "\n",
      "--------- 29 Responsiveness, availability of several communication channels (email, online rep, twitter, phone etc.) ---------\n",
      "count    269.000000\n",
      "mean       0.802974\n",
      "std        0.759413\n",
      "min        0.000000\n",
      "25%        0.000000\n",
      "50%        1.000000\n",
      "75%        1.000000\n",
      "max        3.000000\n",
      "Name: 29 Responsiveness, availability of several communication channels (email, online rep, twitter, phone etc.), dtype: float64\n",
      "\n",
      "\n",
      "--------- 30 Online shopping gives monetary benefit and discounts ---------\n",
      "count    269.000000\n",
      "mean       1.765799\n",
      "std        1.438082\n",
      "min        0.000000\n",
      "25%        0.000000\n",
      "50%        2.000000\n",
      "75%        3.000000\n",
      "max        4.000000\n",
      "Name: 30 Online shopping gives monetary benefit and discounts, dtype: float64\n",
      "\n",
      "\n",
      "--------- 31 Enjoyment is derived from shopping online ---------\n",
      "count    269.000000\n",
      "mean       2.159851\n",
      "std        1.468737\n",
      "min        0.000000\n",
      "25%        1.000000\n",
      "50%        2.000000\n",
      "75%        4.000000\n",
      "max        4.000000\n",
      "Name: 31 Enjoyment is derived from shopping online, dtype: float64\n",
      "\n",
      "\n",
      "--------- 32 Shopping online is convenient and flexible ---------\n",
      "count    269.000000\n",
      "mean       1.498141\n",
      "std        1.038888\n",
      "min        0.000000\n",
      "25%        0.000000\n",
      "50%        2.000000\n",
      "75%        2.000000\n",
      "max        3.000000\n",
      "Name: 32 Shopping online is convenient and flexible, dtype: float64\n",
      "\n",
      "\n",
      "--------- 33 Return and replacement policy of the e-tailer is important for purchase decision ---------\n",
      "count    269.000000\n",
      "mean       1.546468\n",
      "std        0.793324\n",
      "min        0.000000\n",
      "25%        1.000000\n",
      "50%        2.000000\n",
      "75%        2.000000\n",
      "max        2.000000\n",
      "Name: 33 Return and replacement policy of the e-tailer is important for purchase decision, dtype: float64\n",
      "\n",
      "\n",
      "--------- 34 Gaining access to loyalty programs is a benefit of shopping online ---------\n",
      "count    269.000000\n",
      "mean       1.985130\n",
      "std        1.416771\n",
      "min        0.000000\n",
      "25%        1.000000\n",
      "50%        2.000000\n",
      "75%        3.000000\n",
      "max        4.000000\n",
      "Name: 34 Gaining access to loyalty programs is a benefit of shopping online, dtype: float64\n",
      "\n",
      "\n",
      "--------- 35 Displaying quality Information on the website improves satisfaction of customers ---------\n",
      "count    269.000000\n",
      "mean       0.910781\n",
      "std        0.706734\n",
      "min        0.000000\n",
      "25%        0.000000\n",
      "50%        1.000000\n",
      "75%        1.000000\n",
      "max        2.000000\n",
      "Name: 35 Displaying quality Information on the website improves satisfaction of customers, dtype: float64\n",
      "\n",
      "\n",
      "--------- 36 User derive satisfaction while shopping on a good quality website or application ---------\n",
      "count    269.000000\n",
      "mean       1.330855\n",
      "std        0.929520\n",
      "min        0.000000\n",
      "25%        0.000000\n",
      "50%        2.000000\n",
      "75%        2.000000\n",
      "max        2.000000\n",
      "Name: 36 User derive satisfaction while shopping on a good quality website or application, dtype: float64\n",
      "\n",
      "\n",
      "--------- 37 Net Benefit derived from shopping online can lead to users satisfaction ---------\n",
      "count    269.000000\n",
      "mean       1.706320\n",
      "std        0.953781\n",
      "min        0.000000\n",
      "25%        2.000000\n",
      "50%        2.000000\n",
      "75%        2.000000\n",
      "max        3.000000\n",
      "Name: 37 Net Benefit derived from shopping online can lead to users satisfaction, dtype: float64\n",
      "\n",
      "\n",
      "--------- 38 User satisfaction cannot exist without trust ---------\n",
      "count    269.000000\n",
      "mean       1.208178\n",
      "std        1.133516\n",
      "min        0.000000\n",
      "25%        0.000000\n",
      "50%        2.000000\n",
      "75%        2.000000\n",
      "max        4.000000\n",
      "Name: 38 User satisfaction cannot exist without trust, dtype: float64\n",
      "\n",
      "\n",
      "--------- 39 Offering a wide variety of listed product in several category ---------\n",
      "count    269.000000\n",
      "mean       1.486989\n",
      "std        1.173724\n",
      "min        0.000000\n",
      "25%        0.000000\n",
      "50%        2.000000\n",
      "75%        2.000000\n",
      "max        3.000000\n",
      "Name: 39 Offering a wide variety of listed product in several category, dtype: float64\n",
      "\n",
      "\n",
      "--------- 40 Provision of complete and relevant product information ---------\n",
      "count    269.000000\n",
      "mean       1.368030\n",
      "std        1.093681\n",
      "min        0.000000\n",
      "25%        0.000000\n",
      "50%        2.000000\n",
      "75%        2.000000\n",
      "max        3.000000\n",
      "Name: 40 Provision of complete and relevant product information, dtype: float64\n",
      "\n",
      "\n",
      "--------- 41 Monetary savings ---------\n",
      "count    269.000000\n",
      "mean       1.382900\n",
      "std        0.953316\n",
      "min        0.000000\n",
      "25%        0.000000\n",
      "50%        2.000000\n",
      "75%        2.000000\n",
      "max        3.000000\n",
      "Name: 41 Monetary savings, dtype: float64\n",
      "\n",
      "\n",
      "--------- 42 The Convenience of patronizing the online retailer ---------\n",
      "count    269.000000\n",
      "mean       0.773234\n",
      "std        0.866386\n",
      "min        0.000000\n",
      "25%        0.000000\n",
      "50%        0.000000\n",
      "75%        2.000000\n",
      "max        2.000000\n",
      "Name: 42 The Convenience of patronizing the online retailer, dtype: float64\n",
      "\n",
      "\n",
      "--------- 43 Shopping on the website gives you the sense of adventure ---------\n",
      "count    269.000000\n",
      "mean       1.520446\n",
      "std        1.537027\n",
      "min        0.000000\n",
      "25%        0.000000\n",
      "50%        1.000000\n",
      "75%        2.000000\n",
      "max        4.000000\n",
      "Name: 43 Shopping on the website gives you the sense of adventure, dtype: float64\n",
      "\n",
      "\n",
      "--------- 44 Shopping on your preferred e-tailer enhances your social status ---------\n",
      "count    269.000000\n",
      "mean       2.319703\n",
      "std        1.581735\n",
      "min        0.000000\n",
      "25%        1.000000\n",
      "50%        2.000000\n",
      "75%        4.000000\n",
      "max        4.000000\n",
      "Name: 44 Shopping on your preferred e-tailer enhances your social status, dtype: float64\n",
      "\n",
      "\n",
      "--------- 45 You feel gratification shopping on your favorite e-tailer ---------\n",
      "count    269.000000\n",
      "mean       2.267658\n",
      "std        1.589058\n",
      "min        0.000000\n",
      "25%        1.000000\n",
      "50%        2.000000\n",
      "75%        4.000000\n",
      "max        4.000000\n",
      "Name: 45 You feel gratification shopping on your favorite e-tailer, dtype: float64\n",
      "\n",
      "\n",
      "--------- 46 Shopping on the website helps you fulfill certain roles ---------\n",
      "count    269.000000\n",
      "mean       2.040892\n",
      "std        1.682383\n",
      "min        0.000000\n",
      "25%        0.000000\n",
      "50%        2.000000\n",
      "75%        4.000000\n",
      "max        4.000000\n",
      "Name: 46 Shopping on the website helps you fulfill certain roles, dtype: float64\n",
      "\n",
      "\n",
      "--------- 47 Getting value for money spent ---------\n",
      "count    269.000000\n",
      "mean       0.587361\n",
      "std        0.725847\n",
      "min        0.000000\n",
      "25%        0.000000\n",
      "50%        0.000000\n",
      "75%        1.000000\n",
      "max        2.000000\n",
      "Name: 47 Getting value for money spent, dtype: float64\n",
      "\n",
      "\n",
      "--------- From the following, tick any (or all) of the online retailers you have shopped from;                                                                            ---------\n",
      "count    269.000000\n",
      "mean       3.791822\n",
      "std        2.185725\n",
      "min        0.000000\n",
      "25%        2.000000\n",
      "50%        4.000000\n",
      "75%        5.000000\n",
      "max        8.000000\n",
      "Name: From the following, tick any (or all) of the online retailers you have shopped from;                                                                           , dtype: float64\n",
      "\n",
      "\n",
      "--------- Easy to use website or application ---------\n",
      "count    269.000000\n",
      "mean       3.472119\n",
      "std        2.415004\n",
      "min        0.000000\n",
      "25%        1.000000\n",
      "50%        3.000000\n",
      "75%        5.000000\n",
      "max        9.000000\n",
      "Name: Easy to use website or application, dtype: float64\n",
      "\n",
      "\n",
      "--------- Visual appealing web-page layout ---------\n",
      "count    269.000000\n",
      "mean       2.977695\n",
      "std        2.809808\n",
      "min        0.000000\n",
      "25%        1.000000\n",
      "50%        2.000000\n",
      "75%        5.000000\n",
      "max        9.000000\n",
      "Name: Visual appealing web-page layout, dtype: float64\n",
      "\n",
      "\n",
      "--------- Wild variety of product on offer ---------\n",
      "count    269.000000\n",
      "mean       2.185874\n",
      "std        2.253278\n",
      "min        0.000000\n",
      "25%        1.000000\n",
      "50%        1.000000\n",
      "75%        4.000000\n",
      "max        8.000000\n",
      "Name: Wild variety of product on offer, dtype: float64\n",
      "\n",
      "\n",
      "--------- Complete, relevant description information of products ---------\n",
      "count    269.000000\n",
      "mean       3.003717\n",
      "std        3.025388\n",
      "min        0.000000\n",
      "25%        1.000000\n",
      "50%        1.000000\n",
      "75%        5.000000\n",
      "max       10.000000\n",
      "Name: Complete, relevant description information of products, dtype: float64\n",
      "\n",
      "\n",
      "--------- Fast loading website speed of website and application ---------\n",
      "count    269.000000\n",
      "mean       3.762082\n",
      "std        2.838155\n",
      "min        0.000000\n",
      "25%        1.000000\n",
      "50%        4.000000\n",
      "75%        6.000000\n",
      "max        9.000000\n",
      "Name: Fast loading website speed of website and application, dtype: float64\n",
      "\n",
      "\n",
      "--------- Reliability of the website or application ---------\n",
      "count    269.000000\n",
      "mean       3.237918\n",
      "std        2.861722\n",
      "min        0.000000\n",
      "25%        1.000000\n",
      "50%        3.000000\n",
      "75%        6.000000\n",
      "max        9.000000\n",
      "Name: Reliability of the website or application, dtype: float64\n",
      "\n",
      "\n",
      "--------- Quickness to complete purchase ---------\n",
      "count    269.000000\n",
      "mean       2.921933\n",
      "std        2.626899\n",
      "min        0.000000\n",
      "25%        1.000000\n",
      "50%        3.000000\n",
      "75%        5.000000\n",
      "max        8.000000\n",
      "Name: Quickness to complete purchase, dtype: float64\n",
      "\n",
      "\n",
      "--------- Availability of several payment options ---------\n",
      "count    269.000000\n",
      "mean       3.680297\n",
      "std        3.043531\n",
      "min        0.000000\n",
      "25%        1.000000\n",
      "50%        3.000000\n",
      "75%        5.000000\n",
      "max       10.000000\n",
      "Name: Availability of several payment options, dtype: float64\n",
      "\n",
      "\n",
      "--------- Speedy order delivery  ---------\n",
      "count    269.000000\n",
      "mean       1.301115\n",
      "std        1.497024\n",
      "min        0.000000\n",
      "25%        0.000000\n",
      "50%        1.000000\n",
      "75%        2.000000\n",
      "max        5.000000\n",
      "Name: Speedy order delivery , dtype: float64\n",
      "\n",
      "\n",
      "--------- Privacy of customers’ information ---------\n",
      "count    269.000000\n",
      "mean       3.315985\n",
      "std        3.379118\n",
      "min        0.000000\n",
      "25%        0.000000\n",
      "50%        2.000000\n",
      "75%        6.000000\n",
      "max       10.000000\n",
      "Name: Privacy of customers’ information, dtype: float64\n",
      "\n",
      "\n",
      "--------- Security of customer financial information ---------\n",
      "count    269.000000\n",
      "mean       4.386617\n",
      "std        3.219456\n",
      "min        0.000000\n",
      "25%        1.000000\n",
      "50%        4.000000\n",
      "75%        7.000000\n",
      "max       10.000000\n",
      "Name: Security of customer financial information, dtype: float64\n",
      "\n",
      "\n",
      "--------- Perceived Trustworthiness ---------\n",
      "count    269.000000\n",
      "mean       3.215613\n",
      "std        2.798917\n",
      "min        0.000000\n",
      "25%        0.000000\n",
      "50%        3.000000\n",
      "75%        6.000000\n",
      "max        8.000000\n",
      "Name: Perceived Trustworthiness, dtype: float64\n",
      "\n",
      "\n",
      "--------- Presence of online assistance through multi-channel ---------\n",
      "count    269.000000\n",
      "mean       3.193309\n",
      "std        2.777809\n",
      "min        0.000000\n",
      "25%        1.000000\n",
      "50%        3.000000\n",
      "75%        5.000000\n",
      "max        9.000000\n",
      "Name: Presence of online assistance through multi-channel, dtype: float64\n",
      "\n",
      "\n",
      "--------- Longer time to get logged in (promotion, sales period) ---------\n",
      "count    269.000000\n",
      "mean       4.044610\n",
      "std        3.343218\n",
      "min        0.000000\n",
      "25%        1.000000\n",
      "50%        3.000000\n",
      "75%        7.000000\n",
      "max        9.000000\n",
      "Name: Longer time to get logged in (promotion, sales period), dtype: float64\n",
      "\n",
      "\n",
      "--------- Longer time in displaying graphics and photos (promotion, sales period) ---------\n",
      "count    269.000000\n",
      "mean       4.063197\n",
      "std        3.177536\n",
      "min        0.000000\n",
      "25%        1.000000\n",
      "50%        4.000000\n",
      "75%        7.000000\n",
      "max        9.000000\n",
      "Name: Longer time in displaying graphics and photos (promotion, sales period), dtype: float64\n",
      "\n",
      "\n",
      "--------- Late declaration of price (promotion, sales period) ---------\n",
      "count    269.000000\n",
      "mean       3.843866\n",
      "std        2.103162\n",
      "min        0.000000\n",
      "25%        3.000000\n",
      "50%        4.000000\n",
      "75%        5.000000\n",
      "max        7.000000\n",
      "Name: Late declaration of price (promotion, sales period), dtype: float64\n",
      "\n",
      "\n",
      "--------- Longer page loading time (promotion, sales period) ---------\n",
      "count    269.000000\n",
      "mean       5.988848\n",
      "std        2.855321\n",
      "min        0.000000\n",
      "25%        4.000000\n",
      "50%        7.000000\n",
      "75%        8.000000\n",
      "max       10.000000\n",
      "Name: Longer page loading time (promotion, sales period), dtype: float64\n",
      "\n",
      "\n",
      "--------- Limited mode of payment on most products (promotion, sales period) ---------\n",
      "count    269.000000\n",
      "mean       3.717472\n",
      "std        2.853728\n",
      "min        0.000000\n",
      "25%        1.000000\n",
      "50%        3.000000\n",
      "75%        7.000000\n",
      "max        7.000000\n",
      "Name: Limited mode of payment on most products (promotion, sales period), dtype: float64\n",
      "\n",
      "\n",
      "--------- Longer delivery period ---------\n",
      "count    269.000000\n",
      "mean       2.736059\n",
      "std        1.725857\n",
      "min        0.000000\n",
      "25%        1.000000\n",
      "50%        3.000000\n",
      "75%        4.000000\n",
      "max        5.000000\n",
      "Name: Longer delivery period, dtype: float64\n",
      "\n",
      "\n",
      "--------- Change in website/Application design ---------\n",
      "count    269.000000\n",
      "mean       2.189591\n",
      "std        2.152169\n",
      "min        0.000000\n",
      "25%        0.000000\n",
      "50%        1.000000\n",
      "75%        5.000000\n",
      "max        6.000000\n",
      "Name: Change in website/Application design, dtype: float64\n",
      "\n",
      "\n",
      "--------- Frequent disruption when moving from one page to another ---------\n",
      "count    269.000000\n",
      "mean       3.587361\n",
      "std        2.557690\n",
      "min        0.000000\n",
      "25%        1.000000\n",
      "50%        4.000000\n",
      "75%        6.000000\n",
      "max        7.000000\n",
      "Name: Frequent disruption when moving from one page to another, dtype: float64\n",
      "\n",
      "\n",
      "--------- Website is as efficient as before ---------\n",
      "count    269.000000\n",
      "mean       2.133829\n",
      "std        2.171029\n",
      "min        0.000000\n",
      "25%        0.000000\n",
      "50%        1.000000\n",
      "75%        4.000000\n",
      "max        7.000000\n",
      "Name: Website is as efficient as before, dtype: float64\n",
      "\n",
      "\n",
      "--------- Which of the Indian online retailer would you recommend to a friend? ---------\n",
      "count    269.000000\n",
      "mean       2.397770\n",
      "std        2.362991\n",
      "min        0.000000\n",
      "25%        0.000000\n",
      "50%        1.000000\n",
      "75%        5.000000\n",
      "max        7.000000\n",
      "Name: Which of the Indian online retailer would you recommend to a friend?, dtype: float64\n",
      "\n",
      "\n"
     ]
    }
   ],
   "source": [
    "for column in data:\n",
    "    print('---------', column, '---------')\n",
    "    print(data[column].describe())\n",
    "    print('\\n')"
   ]
  },
  {
   "cell_type": "code",
   "execution_count": null,
   "id": "ff1f1ba5",
   "metadata": {},
   "outputs": [],
   "source": []
  }
 ],
 "metadata": {
  "kernelspec": {
   "display_name": "Python 3 (ipykernel)",
   "language": "python",
   "name": "python3"
  },
  "language_info": {
   "codemirror_mode": {
    "name": "ipython",
    "version": 3
   },
   "file_extension": ".py",
   "mimetype": "text/x-python",
   "name": "python",
   "nbconvert_exporter": "python",
   "pygments_lexer": "ipython3",
   "version": "3.9.12"
  }
 },
 "nbformat": 4,
 "nbformat_minor": 5
}
