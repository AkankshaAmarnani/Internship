{
 "cells": [
  {
   "cell_type": "code",
   "execution_count": null,
   "id": "070d84db",
   "metadata": {},
   "outputs": [],
   "source": [
    "#11. Python program to find the factorial of a number.\n",
    "\n",
    "#Take the number from the user\n",
    "a=int(input(\"Enter the number whose factorial you wish to produce: \"))\n",
    "\n",
    "#Initialize a variable to store the products of integers from 1 to a\n",
    "f=1\n",
    "\n",
    "#To obtain the integers from 1 to a\n",
    "for i in range(1,a+1):\n",
    "    f=i*f      #To store the product of the integers\n",
    "print(\"The factorial of \",a,\"is :\",f)"
   ]
  },
  {
   "cell_type": "code",
   "execution_count": null,
   "id": "71cff0ab",
   "metadata": {},
   "outputs": [],
   "source": [
    "#12. Python program to find whether a number is prime or composite.\n",
    "\n",
    "#Take the number from the user\n",
    "a=int(input(\"Enter the number to check whether it is prime or composite \"))\n",
    "\n",
    "#Initialize a variable to store the number of factors of a\n",
    "n=0\n",
    "\n",
    "#To obtain the integers from 1 to a\n",
    "for i in range(1,a+1): \n",
    "    if a%i==0:    #i is a factor of a when the remainder is 0\n",
    "        n=n+1     #Sum of the number of factors\n",
    "\n",
    "if(n==2):        #A prime number has only 2 factors\n",
    "    print(a,\" is a prime number\")\n",
    "elif(n>2):        #A composite number has more than 2 factors\n",
    "    print(a,\" is a composite number\")\n",
    "else:\n",
    "    print(\"The entered number is 1 (One) which is neither a prime nor composite number\")"
   ]
  },
  {
   "cell_type": "code",
   "execution_count": null,
   "id": "e59e511f",
   "metadata": {},
   "outputs": [],
   "source": [
    "#13. Python program to check whether a given string is palindrome or not.\n",
    "\n",
    "#Take the string from the user\n",
    "a=input(\"Enter the string to check whether it is a palindrome or not \")\n",
    "\n",
    "#Capitalize the entire string to omit out case-sensitive mismatches in the word\n",
    "a1=a.upper()\n",
    "\n",
    "#Reverse the string and store in a2\n",
    "a2=a1[::-1]\n",
    "\n",
    "if(a1==a2):       #A string is a palindrome if it is the same even when reversed\n",
    "    print(a,\" is a palindrome\")\n",
    "else:\n",
    "    print(a,\" is not a palindrome\")"
   ]
  },
  {
   "cell_type": "code",
   "execution_count": null,
   "id": "da56edbf",
   "metadata": {},
   "outputs": [],
   "source": [
    " #14. Python program to get the third side of right-angled triangle from two given sides\n",
    "    \n",
    "#Take the known sides and its kind from the user\n",
    "a=int(input(\"Enter the 1st known side of a right angled triangle \"))\n",
    "a1=input(\"Type 'A' if the given side is the adjacent side. Type 'O' if the given side is the opposite side. Type 'H' if the given side is the hypotenuse side    \")\n",
    "b=int(input(\"Enter the 2nd known side of a right angled triangle \"))\n",
    "b1=input(\"Type 'A' if the given side is the adjacent side. Type 'O' if the given side is the opposite side. Type 'H' if the given side is the hypotenuse side    \")\n",
    "\n",
    "if (a1==\"A\" and b1==\"O\") or (a1==\"O\" and b1==\"A\") : # To calcultae the hypotenuse\n",
    "    hyp=((a**2)+(b**2))**0.5\n",
    "    print (\"Hypotenuse = \",hyp)\n",
    "elif (a1==\"A\" and b1==\"H\"):                         #To calculate the opposite side\n",
    "    n=((b**2)-(a**2))**0.5\n",
    "    print (\"The opposite side is = \",n)\n",
    "elif (a1==\"H\" and b1==\"A\"):                         #To calculate the opposite side\n",
    "    n=((a**2)-(b**2))**0.5\n",
    "    print (\"The opposite side is = \",n)\n",
    "elif (a1==\"O\" and b1==\"H\"):                         #To calculate the adjacent side\n",
    "    n=((b**2)-(a**2))**0.5\n",
    "    print (\"The adjacent side is = \",n)\n",
    "elif (a1==\"H\" and b1==\"O\"):                         #To calculate the adjacent side\n",
    "    n=((a**2)-(b**2))**0.5\n",
    "    print (\"The adjacent side is = \",n)\n",
    "else:\n",
    "    print(\"Wrong Input. Please try again\")"
   ]
  },
  {
   "cell_type": "code",
   "execution_count": null,
   "id": "fb227ddd",
   "metadata": {},
   "outputs": [],
   "source": [
    "#15 Python program to print the frequency of each of the characters present in a given string.\n",
    "\n",
    "#Take the string from the user\n",
    "a=input(\"Enter the string to check the frequency of each character \")\n",
    "\n",
    "frequencies={}  #Create a dictionary to store each character and its frequency\n",
    "\n",
    "for char in a: #Check if a character is present in the given string \n",
    "    if char in frequencies:        #Check if that character was already added in the dictionary. If yes add to its frequecy\n",
    "        frequencies[char]+=1\n",
    "    else:\n",
    "        frequencies[char]=1\n",
    "\n",
    "print(\"Per char frequency in '{}' is :\\n {}\".format(a, str(frequencies)))"
   ]
  }
 ],
 "metadata": {
  "kernelspec": {
   "display_name": "Python 3 (ipykernel)",
   "language": "python",
   "name": "python3"
  },
  "language_info": {
   "codemirror_mode": {
    "name": "ipython",
    "version": 3
   },
   "file_extension": ".py",
   "mimetype": "text/x-python",
   "name": "python",
   "nbconvert_exporter": "python",
   "pygments_lexer": "ipython3",
   "version": "3.9.7"
  }
 },
 "nbformat": 4,
 "nbformat_minor": 5
}
